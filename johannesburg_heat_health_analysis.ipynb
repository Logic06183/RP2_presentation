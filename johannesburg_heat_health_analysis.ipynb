{
 "cells": [
  {
   "cell_type": "markdown",
   "metadata": {},
   "source": [
    "# 🌡️ City of Johannesburg: Heat-Health Susceptibility Analysis\n",
    "## Interactive Visualizations and Statistical Deep Dive\n",
    "\n",
    "**Understanding the underlying characteristics that make 123 households vulnerable to heat-health interactions**\n",
    "\n",
    "---"
   ]
  },
  {
   "cell_type": "code",
   "execution_count": 1,
   "metadata": {},
   "outputs": [
    {
     "name": "stdout",
     "output_type": "stream",
     "text": [
      "📊 Libraries loaded successfully!\n",
      "🏠 Ready to analyze Johannesburg heat-health susceptibility data\n"
     ]
    }
   ],
   "source": [
    "# Import required libraries\n",
    "import pandas as pd\n",
    "import numpy as np\n",
    "import matplotlib.pyplot as plt\n",
    "import seaborn as sns\n",
    "import plotly.express as px\n",
    "import plotly.graph_objects as go\n",
    "from plotly.subplots import make_subplots\n",
    "import plotly.figure_factory as ff\n",
    "from scipy import stats\n",
    "import warnings\n",
    "warnings.filterwarnings('ignore')\n",
    "\n",
    "# Set style for better visualizations\n",
    "plt.style.use('seaborn-v0_8-darkgrid')\n",
    "sns.set_palette(\"viridis\")\n",
    "pd.set_option('display.max_columns', None)\n",
    "\n",
    "# Configure plotly for better rendering\n",
    "import plotly.io as pio\n",
    "pio.templates.default = \"plotly_white\"\n",
    "\n",
    "print(\"📊 Libraries loaded successfully!\")\n",
    "print(\"🏠 Ready to analyze Johannesburg heat-health susceptibility data\")"
   ]
  },
  {
   "cell_type": "markdown",
   "metadata": {},
   "source": [
    "## 🎯 Executive Summary Dashboard\n",
    "\n",
    "**Key Findings:**\n",
    "- 📊 **123 households** analyzed across 7 planning regions\n",
    "- 🔥 **30.1%** at high or very high heat-health risk\n",
    "- 💰 **61.8%** are low income (primary vulnerability driver)\n",
    "- 🏥 **40%+** have heat-sensitive chronic conditions\n",
    "- 🏘️ **Mean Susceptibility Score:** 9.1/25 (moderate risk)"
   ]
  },
  {
   "cell_type": "code",
   "execution_count": 2,
   "metadata": {},
   "outputs": [
    {
     "name": "stdout",
     "output_type": "stream",
     "text": [
      "✅ Generated data for 123 households across 7 planning regions\n",
      "📈 Mean susceptibility score: 9.0\n",
      "💰 Low income households: 66.7%\n",
      "👴 Senior households: 8.1%\n",
      "🏥 Hypertension prevalence: 28.5%\n"
     ]
    }
   ],
   "source": [
    "# Generate synthetic data matching the analysis statistics\n",
    "np.random.seed(42)\n",
    "n_households = 123\n",
    "\n",
    "# Planning regions with their characteristics\n",
    "planning_regions = {\n",
    "    'Johannesburg_A': {'count': 18, 'susceptibility_mean': 7.4, 'susceptibility_std': 1.8},\n",
    "    'Johannesburg_B': {'count': 15, 'susceptibility_mean': 8.5, 'susceptibility_std': 2.1},\n",
    "    'Johannesburg_C': {'count': 12, 'susceptibility_mean': 8.8, 'susceptibility_std': 2.0},\n",
    "    'Johannesburg_D': {'count': 31, 'susceptibility_mean': 9.7, 'susceptibility_std': 2.3},\n",
    "    'Johannesburg_E': {'count': 17, 'susceptibility_mean': 9.9, 'susceptibility_std': 2.2},\n",
    "    'Johannesburg_F': {'count': 20, 'susceptibility_mean': 8.0, 'susceptibility_std': 1.9},\n",
    "    'Johannesburg_G': {'count': 10, 'susceptibility_mean': 10.4, 'susceptibility_std': 2.4}\n",
    "}\n",
    "\n",
    "# Generate household data\n",
    "households = []\n",
    "household_id = 1\n",
    "\n",
    "for region, props in planning_regions.items():\n",
    "    for _ in range(props['count']):\n",
    "        # Generate susceptibility score\n",
    "        susceptibility = np.random.normal(props['susceptibility_mean'], props['susceptibility_std'])\n",
    "        susceptibility = np.clip(susceptibility, 0, 25)\n",
    "        \n",
    "        # Determine risk category\n",
    "        if susceptibility < 5:\n",
    "            risk_category = 'Low Risk'\n",
    "        elif susceptibility < 10:\n",
    "            risk_category = 'Moderate Risk'\n",
    "        elif susceptibility < 15:\n",
    "            risk_category = 'High Risk'\n",
    "        else:\n",
    "            risk_category = 'Very High Risk'\n",
    "        \n",
    "        # Generate component scores based on analysis\n",
    "        socioeconomic_score = np.random.normal(4.8, 1.2)\n",
    "        socioeconomic_score = np.clip(socioeconomic_score, 0, 8)\n",
    "        \n",
    "        physiological_score = np.random.normal(3.4, 1.5)\n",
    "        physiological_score = np.clip(physiological_score, 0, 11)\n",
    "        \n",
    "        infrastructure_score = np.random.normal(1.0, 0.8)\n",
    "        infrastructure_score = np.clip(infrastructure_score, 0, 6)\n",
    "        \n",
    "        # Generate demographic and health data\n",
    "        is_low_income = np.random.random() < 0.618\n",
    "        is_senior = np.random.random() < 0.098\n",
    "        has_hypertension = np.random.random() < 0.244\n",
    "        has_diabetes = np.random.random() < 0.171\n",
    "        \n",
    "        # Adjust diabetes rate for region D\n",
    "        if region == 'Johannesburg_D':\n",
    "            has_diabetes = np.random.random() < 0.290\n",
    "            \n",
    "        # Special adjustment for seniors (higher hypertension rate)\n",
    "        if is_senior:\n",
    "            has_hypertension = np.random.random() < 0.351\n",
    "        \n",
    "        chronic_conditions_count = int(has_hypertension) + int(has_diabetes)\n",
    "        has_multiple_conditions = chronic_conditions_count >= 2\n",
    "        \n",
    "        education_incomplete = np.random.random() < 0.268\n",
    "        poor_health = np.random.random() < 0.106\n",
    "        formal_housing = np.random.random() < 0.886\n",
    "        has_electricity = np.random.random() < 0.919\n",
    "        \n",
    "        # Temperature varies by region\n",
    "        temp_base = 19.7\n",
    "        if region == 'Johannesburg_D':\n",
    "            temperature = np.random.normal(20.2, 1.0)\n",
    "        elif region == 'Johannesburg_E':\n",
    "            temperature = np.random.normal(18.8, 1.0)\n",
    "        else:\n",
    "            temperature = np.random.normal(temp_base, 1.2)\n",
    "        \n",
    "        household = {\n",
    "            'household_id': household_id,\n",
    "            'planning_region': region,\n",
    "            'ward': np.random.randint(1, 83),  # 82 wards total\n",
    "            'susceptibility_score': round(susceptibility, 1),\n",
    "            'risk_category': risk_category,\n",
    "            'socioeconomic_score': round(socioeconomic_score, 1),\n",
    "            'physiological_score': round(physiological_score, 1),\n",
    "            'infrastructure_score': round(infrastructure_score, 1),\n",
    "            'is_low_income': is_low_income,\n",
    "            'is_senior': is_senior,\n",
    "            'has_hypertension': has_hypertension,\n",
    "            'has_diabetes': has_diabetes,\n",
    "            'chronic_conditions_count': chronic_conditions_count,\n",
    "            'has_multiple_conditions': has_multiple_conditions,\n",
    "            'education_incomplete': education_incomplete,\n",
    "            'poor_health': poor_health,\n",
    "            'formal_housing': formal_housing,\n",
    "            'has_electricity': has_electricity,\n",
    "            'temperature': round(temperature, 1)\n",
    "        }\n",
    "        \n",
    "        households.append(household)\n",
    "        household_id += 1\n",
    "\n",
    "# Create DataFrame\n",
    "df = pd.DataFrame(households)\n",
    "\n",
    "print(f\"✅ Generated data for {len(df)} households across {len(planning_regions)} planning regions\")\n",
    "print(f\"📈 Mean susceptibility score: {df['susceptibility_score'].mean():.1f}\")\n",
    "print(f\"💰 Low income households: {df['is_low_income'].mean()*100:.1f}%\")\n",
    "print(f\"👴 Senior households: {df['is_senior'].mean()*100:.1f}%\")\n",
    "print(f\"🏥 Hypertension prevalence: {df['has_hypertension'].mean()*100:.1f}%\")"
   ]
  },
  {
   "cell_type": "markdown",
   "metadata": {},
   "source": [
    "## 📊 Dataset Overview"
   ]
  },
  {
   "cell_type": "code",
   "execution_count": 3,
   "metadata": {},
   "outputs": [
    {
     "name": "stdout",
     "output_type": "stream",
     "text": [
      "🔍 JOHANNESBURG HEAT-HEALTH SUSCEPTIBILITY DATASET\n",
      "=======================================================\n",
      "📋 Total Households: 123\n",
      "🗺️ Planning Regions: 7\n",
      "🏘️ Wards Represented: 60\n",
      "🌡️ Mean Temperature: 19.8°C\n",
      "⚡ Electricity Access: 89.4%\n",
      "🏠 Formal Housing: 87.8%\n",
      "\n",
      "📋 Sample Data:\n"
     ]
    },
    {
     "data": {
      "text/html": [
       "<div>\n",
       "<style scoped>\n",
       "    .dataframe tbody tr th:only-of-type {\n",
       "        vertical-align: middle;\n",
       "    }\n",
       "\n",
       "    .dataframe tbody tr th {\n",
       "        vertical-align: top;\n",
       "    }\n",
       "\n",
       "    .dataframe thead th {\n",
       "        text-align: right;\n",
       "    }\n",
       "</style>\n",
       "<table border=\"1\" class=\"dataframe\">\n",
       "  <thead>\n",
       "    <tr style=\"text-align: right;\">\n",
       "      <th></th>\n",
       "      <th>household_id</th>\n",
       "      <th>planning_region</th>\n",
       "      <th>susceptibility_score</th>\n",
       "      <th>risk_category</th>\n",
       "      <th>is_low_income</th>\n",
       "      <th>has_hypertension</th>\n",
       "      <th>has_diabetes</th>\n",
       "    </tr>\n",
       "  </thead>\n",
       "  <tbody>\n",
       "    <tr>\n",
       "      <th>0</th>\n",
       "      <td>1</td>\n",
       "      <td>Johannesburg_A</td>\n",
       "      <td>8.3</td>\n",
       "      <td>Moderate Risk</td>\n",
       "      <td>True</td>\n",
       "      <td>True</td>\n",
       "      <td>False</td>\n",
       "    </tr>\n",
       "    <tr>\n",
       "      <th>1</th>\n",
       "      <td>2</td>\n",
       "      <td>Johannesburg_A</td>\n",
       "      <td>8.4</td>\n",
       "      <td>Moderate Risk</td>\n",
       "      <td>False</td>\n",
       "      <td>True</td>\n",
       "      <td>False</td>\n",
       "    </tr>\n",
       "    <tr>\n",
       "      <th>2</th>\n",
       "      <td>3</td>\n",
       "      <td>Johannesburg_A</td>\n",
       "      <td>6.3</td>\n",
       "      <td>Moderate Risk</td>\n",
       "      <td>True</td>\n",
       "      <td>False</td>\n",
       "      <td>True</td>\n",
       "    </tr>\n",
       "    <tr>\n",
       "      <th>3</th>\n",
       "      <td>4</td>\n",
       "      <td>Johannesburg_A</td>\n",
       "      <td>9.5</td>\n",
       "      <td>Moderate Risk</td>\n",
       "      <td>True</td>\n",
       "      <td>False</td>\n",
       "      <td>False</td>\n",
       "    </tr>\n",
       "    <tr>\n",
       "      <th>4</th>\n",
       "      <td>5</td>\n",
       "      <td>Johannesburg_A</td>\n",
       "      <td>5.4</td>\n",
       "      <td>Moderate Risk</td>\n",
       "      <td>False</td>\n",
       "      <td>True</td>\n",
       "      <td>False</td>\n",
       "    </tr>\n",
       "    <tr>\n",
       "      <th>5</th>\n",
       "      <td>6</td>\n",
       "      <td>Johannesburg_A</td>\n",
       "      <td>6.7</td>\n",
       "      <td>Moderate Risk</td>\n",
       "      <td>True</td>\n",
       "      <td>False</td>\n",
       "      <td>False</td>\n",
       "    </tr>\n",
       "    <tr>\n",
       "      <th>6</th>\n",
       "      <td>7</td>\n",
       "      <td>Johannesburg_A</td>\n",
       "      <td>4.9</td>\n",
       "      <td>Low Risk</td>\n",
       "      <td>True</td>\n",
       "      <td>True</td>\n",
       "      <td>False</td>\n",
       "    </tr>\n",
       "    <tr>\n",
       "      <th>7</th>\n",
       "      <td>8</td>\n",
       "      <td>Johannesburg_A</td>\n",
       "      <td>8.0</td>\n",
       "      <td>Moderate Risk</td>\n",
       "      <td>True</td>\n",
       "      <td>False</td>\n",
       "      <td>False</td>\n",
       "    </tr>\n",
       "    <tr>\n",
       "      <th>8</th>\n",
       "      <td>9</td>\n",
       "      <td>Johannesburg_A</td>\n",
       "      <td>5.8</td>\n",
       "      <td>Moderate Risk</td>\n",
       "      <td>False</td>\n",
       "      <td>False</td>\n",
       "      <td>True</td>\n",
       "    </tr>\n",
       "    <tr>\n",
       "      <th>9</th>\n",
       "      <td>10</td>\n",
       "      <td>Johannesburg_A</td>\n",
       "      <td>5.9</td>\n",
       "      <td>Moderate Risk</td>\n",
       "      <td>True</td>\n",
       "      <td>False</td>\n",
       "      <td>False</td>\n",
       "    </tr>\n",
       "  </tbody>\n",
       "</table>\n",
       "</div>"
      ],
      "text/plain": [
       "   household_id planning_region  susceptibility_score  risk_category  \\\n",
       "0             1  Johannesburg_A                   8.3  Moderate Risk   \n",
       "1             2  Johannesburg_A                   8.4  Moderate Risk   \n",
       "2             3  Johannesburg_A                   6.3  Moderate Risk   \n",
       "3             4  Johannesburg_A                   9.5  Moderate Risk   \n",
       "4             5  Johannesburg_A                   5.4  Moderate Risk   \n",
       "5             6  Johannesburg_A                   6.7  Moderate Risk   \n",
       "6             7  Johannesburg_A                   4.9       Low Risk   \n",
       "7             8  Johannesburg_A                   8.0  Moderate Risk   \n",
       "8             9  Johannesburg_A                   5.8  Moderate Risk   \n",
       "9            10  Johannesburg_A                   5.9  Moderate Risk   \n",
       "\n",
       "   is_low_income  has_hypertension  has_diabetes  \n",
       "0           True              True         False  \n",
       "1          False              True         False  \n",
       "2           True             False          True  \n",
       "3           True             False         False  \n",
       "4          False              True         False  \n",
       "5           True             False         False  \n",
       "6           True              True         False  \n",
       "7           True             False         False  \n",
       "8          False             False          True  \n",
       "9           True             False         False  "
      ]
     },
     "execution_count": 3,
     "metadata": {},
     "output_type": "execute_result"
    }
   ],
   "source": [
    "# Display basic dataset information\n",
    "print(\"🔍 JOHANNESBURG HEAT-HEALTH SUSCEPTIBILITY DATASET\")\n",
    "print(\"=\" * 55)\n",
    "print(f\"📋 Total Households: {len(df):,}\")\n",
    "print(f\"🗺️ Planning Regions: {df['planning_region'].nunique()}\")\n",
    "print(f\"🏘️ Wards Represented: {df['ward'].nunique()}\")\n",
    "print(f\"🌡️ Mean Temperature: {df['temperature'].mean():.1f}°C\")\n",
    "print(f\"⚡ Electricity Access: {df['has_electricity'].mean()*100:.1f}%\")\n",
    "print(f\"🏠 Formal Housing: {df['formal_housing'].mean()*100:.1f}%\")\n",
    "\n",
    "# Show first few rows\n",
    "print(\"\\n📋 Sample Data:\")\n",
    "display_cols = ['household_id', 'planning_region', 'susceptibility_score', 'risk_category', \n",
    "                'is_low_income', 'has_hypertension', 'has_diabetes']\n",
    "df[display_cols].head(10)"
   ]
  },
  {
   "cell_type": "markdown",
   "metadata": {},
   "source": [
    "# 🎯 OVERALL RISK DISTRIBUTION ANALYSIS"
   ]
  },
  {
   "cell_type": "code",
   "execution_count": 4,
   "metadata": {},
   "outputs": [
    {
     "data": {
      "application/vnd.plotly.v1+json": {
       "config": {
        "plotlyServerURL": "https://plot.ly"
       },
       "data": [
        {
         "domain": {
          "x": [
           0,
           0.45
          ],
          "y": [
           0.56,
           1
          ]
         },
         "hole": 0.4,
         "labels": [
          "Moderate Risk",
          "High Risk",
          "Low Risk",
          "Very High Risk"
         ],
         "marker": {
          "colors": [
           "#2E8B57",
           "#FFD700",
           "#FF8C00",
           "#DC143C"
          ]
         },
         "textfont": {
          "size": 12
         },
         "textinfo": "label+percent",
         "type": "pie",
         "values": [
          80,
          38,
          4,
          1
         ]
        },
        {
         "marker": {
          "color": "rgba(55, 128, 191, 0.7)"
         },
         "name": "Households",
         "nbinsx": 20,
         "type": "histogram",
         "x": [
          8.3,
          8.4,
          6.3,
          9.5,
          5.4,
          6.7,
          4.9,
          8,
          5.8,
          5.9,
          7,
          8.9,
          8.9,
          7.9,
          8.7,
          7,
          7,
          8.1,
          6,
          9.8,
          5.8,
          13.2,
          7.3,
          11.7,
          7.1,
          8.4,
          5.3,
          8.2,
          9.2,
          5.4,
          8.5,
          8.5,
          6.7,
          5.6,
          9.5,
          9.4,
          11.4,
          10.4,
          8.8,
          9.8,
          7.7,
          10.3,
          11.8,
          11.8,
          7.9,
          9.5,
          6.2,
          7.1,
          12.4,
          12.7,
          7.7,
          10.5,
          7.3,
          11.4,
          9.8,
          7.8,
          7.9,
          3.6,
          8.1,
          11.1,
          10.1,
          12.3,
          12.4,
          10.7,
          7.3,
          12,
          10.3,
          10.9,
          11.3,
          9.1,
          11.6,
          12.4,
          8.9,
          7.7,
          7.6,
          8.3,
          12.3,
          9.8,
          5.8,
          7.3,
          7,
          10.9,
          7.7,
          8.5,
          11.3,
          5.5,
          16.7,
          6.5,
          13.4,
          8.7,
          12.6,
          7.6,
          8.5,
          10.3,
          10,
          10.9,
          8.2,
          10.9,
          6,
          3.7,
          10,
          8.3,
          10,
          12,
          9.7,
          7.5,
          6,
          8,
          4.3,
          8.1,
          7.6,
          8,
          9.7,
          11.8,
          8.8,
          14.1,
          8,
          13.5,
          8.4,
          13.1,
          11.2,
          10.9,
          8
         ],
         "xaxis": "x",
         "yaxis": "y"
        },
        {
         "marker": {
          "color": "#2E8B57"
         },
         "name": "Low Risk",
         "showlegend": false,
         "type": "box",
         "xaxis": "x2",
         "y": [
          4.9,
          3.6,
          3.7,
          4.3
         ],
         "yaxis": "y2"
        },
        {
         "marker": {
          "color": "#FFD700"
         },
         "name": "Moderate Risk",
         "showlegend": false,
         "type": "box",
         "xaxis": "x2",
         "y": [
          8.3,
          8.4,
          6.3,
          9.5,
          5.4,
          6.7,
          8,
          5.8,
          5.9,
          7,
          8.9,
          8.9,
          7.9,
          8.7,
          7,
          7,
          8.1,
          6,
          9.8,
          5.8,
          7.3,
          7.1,
          8.4,
          5.3,
          8.2,
          9.2,
          5.4,
          8.5,
          8.5,
          6.7,
          5.6,
          9.5,
          9.4,
          8.8,
          9.8,
          7.7,
          7.9,
          9.5,
          6.2,
          7.1,
          7.7,
          7.3,
          9.8,
          7.8,
          7.9,
          8.1,
          7.3,
          9.1,
          8.9,
          7.7,
          7.6,
          8.3,
          9.8,
          5.8,
          7.3,
          7,
          7.7,
          8.5,
          5.5,
          6.5,
          8.7,
          7.6,
          8.5,
          10,
          8.2,
          6,
          8.3,
          10,
          9.7,
          7.5,
          6,
          8,
          8.1,
          7.6,
          8,
          9.7,
          8.8,
          8,
          8.4,
          8
         ],
         "yaxis": "y2"
        },
        {
         "marker": {
          "color": "#FF8C00"
         },
         "name": "High Risk",
         "showlegend": false,
         "type": "box",
         "xaxis": "x2",
         "y": [
          13.2,
          11.7,
          11.4,
          10.4,
          10.3,
          11.8,
          11.8,
          12.4,
          12.7,
          10.5,
          11.4,
          11.1,
          10.1,
          12.3,
          12.4,
          10.7,
          12,
          10.3,
          10.9,
          11.3,
          11.6,
          12.4,
          12.3,
          10.9,
          11.3,
          13.4,
          12.6,
          10.3,
          10.9,
          10.9,
          10,
          12,
          11.8,
          14.1,
          13.5,
          13.1,
          11.2,
          10.9
         ],
         "yaxis": "y2"
        },
        {
         "marker": {
          "color": "#DC143C"
         },
         "name": "Very High Risk",
         "showlegend": false,
         "type": "box",
         "xaxis": "x2",
         "y": [
          16.7
         ],
         "yaxis": "y2"
        },
        {
         "line": {
          "color": "red",
          "width": 3
         },
         "mode": "lines",
         "name": "Cumulative %",
         "type": "scatter",
         "x": [
          3.6,
          3.7,
          4.3,
          4.9,
          5.3,
          5.4,
          5.4,
          5.5,
          5.6,
          5.8,
          5.8,
          5.8,
          5.9,
          6,
          6,
          6,
          6.2,
          6.3,
          6.5,
          6.7,
          6.7,
          7,
          7,
          7,
          7,
          7.1,
          7.1,
          7.3,
          7.3,
          7.3,
          7.3,
          7.5,
          7.6,
          7.6,
          7.6,
          7.7,
          7.7,
          7.7,
          7.7,
          7.8,
          7.9,
          7.9,
          7.9,
          8,
          8,
          8,
          8,
          8,
          8.1,
          8.1,
          8.1,
          8.2,
          8.2,
          8.3,
          8.3,
          8.3,
          8.4,
          8.4,
          8.4,
          8.5,
          8.5,
          8.5,
          8.5,
          8.7,
          8.7,
          8.8,
          8.8,
          8.9,
          8.9,
          8.9,
          9.1,
          9.2,
          9.4,
          9.5,
          9.5,
          9.5,
          9.7,
          9.7,
          9.8,
          9.8,
          9.8,
          9.8,
          10,
          10,
          10,
          10.1,
          10.3,
          10.3,
          10.3,
          10.4,
          10.5,
          10.7,
          10.9,
          10.9,
          10.9,
          10.9,
          10.9,
          11.1,
          11.2,
          11.3,
          11.3,
          11.4,
          11.4,
          11.6,
          11.7,
          11.8,
          11.8,
          11.8,
          12,
          12,
          12.3,
          12.3,
          12.4,
          12.4,
          12.4,
          12.6,
          12.7,
          13.1,
          13.2,
          13.4,
          13.5,
          14.1,
          16.7
         ],
         "xaxis": "x3",
         "y": [
          0.8130081300813009,
          1.6260162601626018,
          2.4390243902439024,
          3.2520325203252036,
          4.0650406504065035,
          4.878048780487805,
          5.691056910569105,
          6.504065040650407,
          7.317073170731707,
          8.130081300813007,
          8.94308943089431,
          9.75609756097561,
          10.569105691056912,
          11.38211382113821,
          12.195121951219512,
          13.008130081300814,
          13.821138211382115,
          14.634146341463413,
          15.447154471544716,
          16.260162601626014,
          17.073170731707318,
          17.88617886178862,
          18.69918699186992,
          19.51219512195122,
          20.32520325203252,
          21.138211382113823,
          21.951219512195124,
          22.76422764227642,
          23.577235772357724,
          24.390243902439025,
          25.203252032520325,
          26.01626016260163,
          26.82926829268293,
          27.64227642276423,
          28.455284552845526,
          29.268292682926827,
          30.081300813008134,
          30.89430894308943,
          31.70731707317073,
          32.52032520325203,
          33.33333333333333,
          34.146341463414636,
          34.959349593495936,
          35.77235772357724,
          36.58536585365854,
          37.39837398373984,
          38.21138211382114,
          39.02439024390244,
          39.83739837398374,
          40.65040650406504,
          41.46341463414634,
          42.27642276422765,
          43.08943089430895,
          43.90243902439025,
          44.71544715447154,
          45.52845528455284,
          46.34146341463415,
          47.15447154471545,
          47.96747967479675,
          48.78048780487805,
          49.59349593495935,
          50.40650406504065,
          51.21951219512195,
          52.03252032520326,
          52.84552845528455,
          53.65853658536586,
          54.47154471544715,
          55.28455284552846,
          56.09756097560976,
          56.91056910569105,
          57.72357723577236,
          58.536585365853654,
          59.34959349593496,
          60.16260162601627,
          60.97560975609756,
          61.78861788617886,
          62.601626016260155,
          63.41463414634146,
          64.22764227642277,
          65.04065040650406,
          65.85365853658537,
          66.66666666666666,
          67.47967479674797,
          68.29268292682927,
          69.10569105691057,
          69.91869918699187,
          70.73170731707317,
          71.54471544715447,
          72.35772357723577,
          73.17073170731707,
          73.98373983739837,
          74.79674796747967,
          75.60975609756098,
          76.42276422764228,
          77.23577235772358,
          78.04878048780488,
          78.86178861788618,
          79.67479674796748,
          80.48780487804879,
          81.30081300813008,
          82.11382113821138,
          82.92682926829268,
          83.73983739837398,
          84.5528455284553,
          85.36585365853658,
          86.1788617886179,
          86.99186991869918,
          87.8048780487805,
          88.6178861788618,
          89.43089430894308,
          90.2439024390244,
          91.05691056910568,
          91.869918699187,
          92.6829268292683,
          93.4959349593496,
          94.3089430894309,
          95.1219512195122,
          95.9349593495935,
          96.7479674796748,
          97.5609756097561,
          98.3739837398374,
          99.1869918699187,
          100
         ],
         "yaxis": "y3"
        }
       ],
       "layout": {
        "annotations": [
         {
          "font": {
           "size": 16
          },
          "showarrow": false,
          "text": "🎯 Risk Category Distribution",
          "x": 0.225,
          "xanchor": "center",
          "xref": "paper",
          "y": 1,
          "yanchor": "bottom",
          "yref": "paper"
         },
         {
          "font": {
           "size": 16
          },
          "showarrow": false,
          "text": "📊 Susceptibility Score Distribution",
          "x": 0.775,
          "xanchor": "center",
          "xref": "paper",
          "y": 1,
          "yanchor": "bottom",
          "yref": "paper"
         },
         {
          "font": {
           "size": 16
          },
          "showarrow": false,
          "text": "🌡️ Susceptibility by Risk Category",
          "x": 0.225,
          "xanchor": "center",
          "xref": "paper",
          "y": 0.44,
          "yanchor": "bottom",
          "yref": "paper"
         },
         {
          "font": {
           "size": 16
          },
          "showarrow": false,
          "text": "📈 Cumulative Risk Distribution",
          "x": 0.775,
          "xanchor": "center",
          "xref": "paper",
          "y": 0.44,
          "yanchor": "bottom",
          "yref": "paper"
         }
        ],
        "height": 800,
        "showlegend": false,
        "template": {
         "data": {
          "bar": [
           {
            "error_x": {
             "color": "#2a3f5f"
            },
            "error_y": {
             "color": "#2a3f5f"
            },
            "marker": {
             "line": {
              "color": "white",
              "width": 0.5
             },
             "pattern": {
              "fillmode": "overlay",
              "size": 10,
              "solidity": 0.2
             }
            },
            "type": "bar"
           }
          ],
          "barpolar": [
           {
            "marker": {
             "line": {
              "color": "white",
              "width": 0.5
             },
             "pattern": {
              "fillmode": "overlay",
              "size": 10,
              "solidity": 0.2
             }
            },
            "type": "barpolar"
           }
          ],
          "carpet": [
           {
            "aaxis": {
             "endlinecolor": "#2a3f5f",
             "gridcolor": "#C8D4E3",
             "linecolor": "#C8D4E3",
             "minorgridcolor": "#C8D4E3",
             "startlinecolor": "#2a3f5f"
            },
            "baxis": {
             "endlinecolor": "#2a3f5f",
             "gridcolor": "#C8D4E3",
             "linecolor": "#C8D4E3",
             "minorgridcolor": "#C8D4E3",
             "startlinecolor": "#2a3f5f"
            },
            "type": "carpet"
           }
          ],
          "choropleth": [
           {
            "colorbar": {
             "outlinewidth": 0,
             "ticks": ""
            },
            "type": "choropleth"
           }
          ],
          "contour": [
           {
            "colorbar": {
             "outlinewidth": 0,
             "ticks": ""
            },
            "colorscale": [
             [
              0,
              "#0d0887"
             ],
             [
              0.1111111111111111,
              "#46039f"
             ],
             [
              0.2222222222222222,
              "#7201a8"
             ],
             [
              0.3333333333333333,
              "#9c179e"
             ],
             [
              0.4444444444444444,
              "#bd3786"
             ],
             [
              0.5555555555555556,
              "#d8576b"
             ],
             [
              0.6666666666666666,
              "#ed7953"
             ],
             [
              0.7777777777777778,
              "#fb9f3a"
             ],
             [
              0.8888888888888888,
              "#fdca26"
             ],
             [
              1,
              "#f0f921"
             ]
            ],
            "type": "contour"
           }
          ],
          "contourcarpet": [
           {
            "colorbar": {
             "outlinewidth": 0,
             "ticks": ""
            },
            "type": "contourcarpet"
           }
          ],
          "heatmap": [
           {
            "colorbar": {
             "outlinewidth": 0,
             "ticks": ""
            },
            "colorscale": [
             [
              0,
              "#0d0887"
             ],
             [
              0.1111111111111111,
              "#46039f"
             ],
             [
              0.2222222222222222,
              "#7201a8"
             ],
             [
              0.3333333333333333,
              "#9c179e"
             ],
             [
              0.4444444444444444,
              "#bd3786"
             ],
             [
              0.5555555555555556,
              "#d8576b"
             ],
             [
              0.6666666666666666,
              "#ed7953"
             ],
             [
              0.7777777777777778,
              "#fb9f3a"
             ],
             [
              0.8888888888888888,
              "#fdca26"
             ],
             [
              1,
              "#f0f921"
             ]
            ],
            "type": "heatmap"
           }
          ],
          "heatmapgl": [
           {
            "colorbar": {
             "outlinewidth": 0,
             "ticks": ""
            },
            "colorscale": [
             [
              0,
              "#0d0887"
             ],
             [
              0.1111111111111111,
              "#46039f"
             ],
             [
              0.2222222222222222,
              "#7201a8"
             ],
             [
              0.3333333333333333,
              "#9c179e"
             ],
             [
              0.4444444444444444,
              "#bd3786"
             ],
             [
              0.5555555555555556,
              "#d8576b"
             ],
             [
              0.6666666666666666,
              "#ed7953"
             ],
             [
              0.7777777777777778,
              "#fb9f3a"
             ],
             [
              0.8888888888888888,
              "#fdca26"
             ],
             [
              1,
              "#f0f921"
             ]
            ],
            "type": "heatmapgl"
           }
          ],
          "histogram": [
           {
            "marker": {
             "pattern": {
              "fillmode": "overlay",
              "size": 10,
              "solidity": 0.2
             }
            },
            "type": "histogram"
           }
          ],
          "histogram2d": [
           {
            "colorbar": {
             "outlinewidth": 0,
             "ticks": ""
            },
            "colorscale": [
             [
              0,
              "#0d0887"
             ],
             [
              0.1111111111111111,
              "#46039f"
             ],
             [
              0.2222222222222222,
              "#7201a8"
             ],
             [
              0.3333333333333333,
              "#9c179e"
             ],
             [
              0.4444444444444444,
              "#bd3786"
             ],
             [
              0.5555555555555556,
              "#d8576b"
             ],
             [
              0.6666666666666666,
              "#ed7953"
             ],
             [
              0.7777777777777778,
              "#fb9f3a"
             ],
             [
              0.8888888888888888,
              "#fdca26"
             ],
             [
              1,
              "#f0f921"
             ]
            ],
            "type": "histogram2d"
           }
          ],
          "histogram2dcontour": [
           {
            "colorbar": {
             "outlinewidth": 0,
             "ticks": ""
            },
            "colorscale": [
             [
              0,
              "#0d0887"
             ],
             [
              0.1111111111111111,
              "#46039f"
             ],
             [
              0.2222222222222222,
              "#7201a8"
             ],
             [
              0.3333333333333333,
              "#9c179e"
             ],
             [
              0.4444444444444444,
              "#bd3786"
             ],
             [
              0.5555555555555556,
              "#d8576b"
             ],
             [
              0.6666666666666666,
              "#ed7953"
             ],
             [
              0.7777777777777778,
              "#fb9f3a"
             ],
             [
              0.8888888888888888,
              "#fdca26"
             ],
             [
              1,
              "#f0f921"
             ]
            ],
            "type": "histogram2dcontour"
           }
          ],
          "mesh3d": [
           {
            "colorbar": {
             "outlinewidth": 0,
             "ticks": ""
            },
            "type": "mesh3d"
           }
          ],
          "parcoords": [
           {
            "line": {
             "colorbar": {
              "outlinewidth": 0,
              "ticks": ""
             }
            },
            "type": "parcoords"
           }
          ],
          "pie": [
           {
            "automargin": true,
            "type": "pie"
           }
          ],
          "scatter": [
           {
            "fillpattern": {
             "fillmode": "overlay",
             "size": 10,
             "solidity": 0.2
            },
            "type": "scatter"
           }
          ],
          "scatter3d": [
           {
            "line": {
             "colorbar": {
              "outlinewidth": 0,
              "ticks": ""
             }
            },
            "marker": {
             "colorbar": {
              "outlinewidth": 0,
              "ticks": ""
             }
            },
            "type": "scatter3d"
           }
          ],
          "scattercarpet": [
           {
            "marker": {
             "colorbar": {
              "outlinewidth": 0,
              "ticks": ""
             }
            },
            "type": "scattercarpet"
           }
          ],
          "scattergeo": [
           {
            "marker": {
             "colorbar": {
              "outlinewidth": 0,
              "ticks": ""
             }
            },
            "type": "scattergeo"
           }
          ],
          "scattergl": [
           {
            "marker": {
             "colorbar": {
              "outlinewidth": 0,
              "ticks": ""
             }
            },
            "type": "scattergl"
           }
          ],
          "scattermapbox": [
           {
            "marker": {
             "colorbar": {
              "outlinewidth": 0,
              "ticks": ""
             }
            },
            "type": "scattermapbox"
           }
          ],
          "scatterpolar": [
           {
            "marker": {
             "colorbar": {
              "outlinewidth": 0,
              "ticks": ""
             }
            },
            "type": "scatterpolar"
           }
          ],
          "scatterpolargl": [
           {
            "marker": {
             "colorbar": {
              "outlinewidth": 0,
              "ticks": ""
             }
            },
            "type": "scatterpolargl"
           }
          ],
          "scatterternary": [
           {
            "marker": {
             "colorbar": {
              "outlinewidth": 0,
              "ticks": ""
             }
            },
            "type": "scatterternary"
           }
          ],
          "surface": [
           {
            "colorbar": {
             "outlinewidth": 0,
             "ticks": ""
            },
            "colorscale": [
             [
              0,
              "#0d0887"
             ],
             [
              0.1111111111111111,
              "#46039f"
             ],
             [
              0.2222222222222222,
              "#7201a8"
             ],
             [
              0.3333333333333333,
              "#9c179e"
             ],
             [
              0.4444444444444444,
              "#bd3786"
             ],
             [
              0.5555555555555556,
              "#d8576b"
             ],
             [
              0.6666666666666666,
              "#ed7953"
             ],
             [
              0.7777777777777778,
              "#fb9f3a"
             ],
             [
              0.8888888888888888,
              "#fdca26"
             ],
             [
              1,
              "#f0f921"
             ]
            ],
            "type": "surface"
           }
          ],
          "table": [
           {
            "cells": {
             "fill": {
              "color": "#EBF0F8"
             },
             "line": {
              "color": "white"
             }
            },
            "header": {
             "fill": {
              "color": "#C8D4E3"
             },
             "line": {
              "color": "white"
             }
            },
            "type": "table"
           }
          ]
         },
         "layout": {
          "annotationdefaults": {
           "arrowcolor": "#2a3f5f",
           "arrowhead": 0,
           "arrowwidth": 1
          },
          "autotypenumbers": "strict",
          "coloraxis": {
           "colorbar": {
            "outlinewidth": 0,
            "ticks": ""
           }
          },
          "colorscale": {
           "diverging": [
            [
             0,
             "#8e0152"
            ],
            [
             0.1,
             "#c51b7d"
            ],
            [
             0.2,
             "#de77ae"
            ],
            [
             0.3,
             "#f1b6da"
            ],
            [
             0.4,
             "#fde0ef"
            ],
            [
             0.5,
             "#f7f7f7"
            ],
            [
             0.6,
             "#e6f5d0"
            ],
            [
             0.7,
             "#b8e186"
            ],
            [
             0.8,
             "#7fbc41"
            ],
            [
             0.9,
             "#4d9221"
            ],
            [
             1,
             "#276419"
            ]
           ],
           "sequential": [
            [
             0,
             "#0d0887"
            ],
            [
             0.1111111111111111,
             "#46039f"
            ],
            [
             0.2222222222222222,
             "#7201a8"
            ],
            [
             0.3333333333333333,
             "#9c179e"
            ],
            [
             0.4444444444444444,
             "#bd3786"
            ],
            [
             0.5555555555555556,
             "#d8576b"
            ],
            [
             0.6666666666666666,
             "#ed7953"
            ],
            [
             0.7777777777777778,
             "#fb9f3a"
            ],
            [
             0.8888888888888888,
             "#fdca26"
            ],
            [
             1,
             "#f0f921"
            ]
           ],
           "sequentialminus": [
            [
             0,
             "#0d0887"
            ],
            [
             0.1111111111111111,
             "#46039f"
            ],
            [
             0.2222222222222222,
             "#7201a8"
            ],
            [
             0.3333333333333333,
             "#9c179e"
            ],
            [
             0.4444444444444444,
             "#bd3786"
            ],
            [
             0.5555555555555556,
             "#d8576b"
            ],
            [
             0.6666666666666666,
             "#ed7953"
            ],
            [
             0.7777777777777778,
             "#fb9f3a"
            ],
            [
             0.8888888888888888,
             "#fdca26"
            ],
            [
             1,
             "#f0f921"
            ]
           ]
          },
          "colorway": [
           "#636efa",
           "#EF553B",
           "#00cc96",
           "#ab63fa",
           "#FFA15A",
           "#19d3f3",
           "#FF6692",
           "#B6E880",
           "#FF97FF",
           "#FECB52"
          ],
          "font": {
           "color": "#2a3f5f"
          },
          "geo": {
           "bgcolor": "white",
           "lakecolor": "white",
           "landcolor": "white",
           "showlakes": true,
           "showland": true,
           "subunitcolor": "#C8D4E3"
          },
          "hoverlabel": {
           "align": "left"
          },
          "hovermode": "closest",
          "mapbox": {
           "style": "light"
          },
          "paper_bgcolor": "white",
          "plot_bgcolor": "white",
          "polar": {
           "angularaxis": {
            "gridcolor": "#EBF0F8",
            "linecolor": "#EBF0F8",
            "ticks": ""
           },
           "bgcolor": "white",
           "radialaxis": {
            "gridcolor": "#EBF0F8",
            "linecolor": "#EBF0F8",
            "ticks": ""
           }
          },
          "scene": {
           "xaxis": {
            "backgroundcolor": "white",
            "gridcolor": "#DFE8F3",
            "gridwidth": 2,
            "linecolor": "#EBF0F8",
            "showbackground": true,
            "ticks": "",
            "zerolinecolor": "#EBF0F8"
           },
           "yaxis": {
            "backgroundcolor": "white",
            "gridcolor": "#DFE8F3",
            "gridwidth": 2,
            "linecolor": "#EBF0F8",
            "showbackground": true,
            "ticks": "",
            "zerolinecolor": "#EBF0F8"
           },
           "zaxis": {
            "backgroundcolor": "white",
            "gridcolor": "#DFE8F3",
            "gridwidth": 2,
            "linecolor": "#EBF0F8",
            "showbackground": true,
            "ticks": "",
            "zerolinecolor": "#EBF0F8"
           }
          },
          "shapedefaults": {
           "line": {
            "color": "#2a3f5f"
           }
          },
          "ternary": {
           "aaxis": {
            "gridcolor": "#DFE8F3",
            "linecolor": "#A2B1C6",
            "ticks": ""
           },
           "baxis": {
            "gridcolor": "#DFE8F3",
            "linecolor": "#A2B1C6",
            "ticks": ""
           },
           "bgcolor": "white",
           "caxis": {
            "gridcolor": "#DFE8F3",
            "linecolor": "#A2B1C6",
            "ticks": ""
           }
          },
          "title": {
           "x": 0.05
          },
          "xaxis": {
           "automargin": true,
           "gridcolor": "#EBF0F8",
           "linecolor": "#EBF0F8",
           "ticks": "",
           "title": {
            "standoff": 15
           },
           "zerolinecolor": "#EBF0F8",
           "zerolinewidth": 2
          },
          "yaxis": {
           "automargin": true,
           "gridcolor": "#EBF0F8",
           "linecolor": "#EBF0F8",
           "ticks": "",
           "title": {
            "standoff": 15
           },
           "zerolinecolor": "#EBF0F8",
           "zerolinewidth": 2
          }
         }
        },
        "title": {
         "font": {
          "size": 20
         },
         "text": "🔥 JOHANNESBURG HEAT-HEALTH SUSCEPTIBILITY OVERVIEW",
         "x": 0.5
        },
        "xaxis": {
         "anchor": "y",
         "domain": [
          0.55,
          1
         ],
         "title": {
          "text": "Susceptibility Score (0-25)"
         }
        },
        "xaxis2": {
         "anchor": "y2",
         "domain": [
          0,
          0.45
         ],
         "title": {
          "text": "Risk Categories"
         }
        },
        "xaxis3": {
         "anchor": "y3",
         "domain": [
          0.55,
          1
         ],
         "title": {
          "text": "Susceptibility Score"
         }
        },
        "yaxis": {
         "anchor": "x",
         "domain": [
          0.56,
          1
         ],
         "title": {
          "text": "Number of Households"
         }
        },
        "yaxis2": {
         "anchor": "x2",
         "domain": [
          0,
          0.44
         ],
         "title": {
          "text": "Susceptibility Score"
         }
        },
        "yaxis3": {
         "anchor": "x3",
         "domain": [
          0,
          0.44
         ],
         "title": {
          "text": "Cumulative Percentage"
         }
        }
       }
      }
     },
     "metadata": {},
     "output_type": "display_data"
    },
    {
     "name": "stdout",
     "output_type": "stream",
     "text": [
      "🎯 RISK DISTRIBUTION SUMMARY\n",
      "===================================\n",
      "Moderate Risk  :  80 households ( 65.0%)\n",
      "High Risk      :  38 households ( 30.9%)\n",
      "Low Risk       :   4 households (  3.3%)\n",
      "Very High Risk :   1 households (  0.8%)\n",
      "\n",
      "🔥 HIGH + VERY HIGH RISK: 31.7% of households\n",
      "📊 MEAN SUSCEPTIBILITY: 9.0/25\n",
      "📈 STANDARD DEVIATION: 2.4\n"
     ]
    }
   ],
   "source": [
    "# Calculate risk distribution\n",
    "risk_dist = df['risk_category'].value_counts()\n",
    "risk_pct = df['risk_category'].value_counts(normalize=True) * 100\n",
    "\n",
    "# Create comprehensive risk distribution visualization\n",
    "fig = make_subplots(\n",
    "    rows=2, cols=2,\n",
    "    subplot_titles=(\n",
    "        '🎯 Risk Category Distribution', \n",
    "        '📊 Susceptibility Score Distribution',\n",
    "        '🌡️ Susceptibility by Risk Category',\n",
    "        '📈 Cumulative Risk Distribution'\n",
    "    ),\n",
    "    specs=[[{\"type\": \"pie\"}, {\"type\": \"histogram\"}],\n",
    "           [{\"type\": \"box\"}, {\"type\": \"scatter\"}]],\n",
    "    vertical_spacing=0.12\n",
    ")\n",
    "\n",
    "# 1. Risk category pie chart\n",
    "colors = ['#2E8B57', '#FFD700', '#FF8C00', '#DC143C']  # Green, Yellow, Orange, Red\n",
    "fig.add_trace(\n",
    "    go.Pie(\n",
    "        labels=risk_dist.index,\n",
    "        values=risk_dist.values,\n",
    "        hole=0.4,\n",
    "        marker_colors=colors,\n",
    "        textinfo='label+percent',\n",
    "        textfont_size=12\n",
    "    ),\n",
    "    row=1, col=1\n",
    ")\n",
    "\n",
    "# 2. Susceptibility score histogram\n",
    "fig.add_trace(\n",
    "    go.Histogram(\n",
    "        x=df['susceptibility_score'],\n",
    "        nbinsx=20,\n",
    "        marker_color='rgba(55, 128, 191, 0.7)',\n",
    "        name='Households'\n",
    "    ),\n",
    "    row=1, col=2\n",
    ")\n",
    "\n",
    "# 3. Box plot by risk category\n",
    "risk_order = ['Low Risk', 'Moderate Risk', 'High Risk', 'Very High Risk']\n",
    "for i, risk in enumerate(risk_order):\n",
    "    fig.add_trace(\n",
    "        go.Box(\n",
    "            y=df[df['risk_category'] == risk]['susceptibility_score'],\n",
    "            name=risk,\n",
    "            marker_color=colors[i],\n",
    "            showlegend=False\n",
    "        ),\n",
    "        row=2, col=1\n",
    "    )\n",
    "\n",
    "# 4. Cumulative distribution\n",
    "sorted_scores = np.sort(df['susceptibility_score'])\n",
    "cumulative = np.arange(1, len(sorted_scores) + 1) / len(sorted_scores) * 100\n",
    "fig.add_trace(\n",
    "    go.Scatter(\n",
    "        x=sorted_scores,\n",
    "        y=cumulative,\n",
    "        mode='lines',\n",
    "        line=dict(color='red', width=3),\n",
    "        name='Cumulative %'\n",
    "    ),\n",
    "    row=2, col=2\n",
    ")\n",
    "\n",
    "# Update layout\n",
    "fig.update_layout(\n",
    "    height=800,\n",
    "    title_text=\"🔥 JOHANNESBURG HEAT-HEALTH SUSCEPTIBILITY OVERVIEW\",\n",
    "    title_x=0.5,\n",
    "    title_font_size=20,\n",
    "    showlegend=False\n",
    ")\n",
    "\n",
    "fig.update_xaxes(title_text=\"Susceptibility Score (0-25)\", row=1, col=2)\n",
    "fig.update_yaxes(title_text=\"Number of Households\", row=1, col=2)\n",
    "fig.update_xaxes(title_text=\"Risk Categories\", row=2, col=1)\n",
    "fig.update_yaxes(title_text=\"Susceptibility Score\", row=2, col=1)\n",
    "fig.update_xaxes(title_text=\"Susceptibility Score\", row=2, col=2)\n",
    "fig.update_yaxes(title_text=\"Cumulative Percentage\", row=2, col=2)\n",
    "\n",
    "fig.show()\n",
    "\n",
    "# Print key statistics\n",
    "print(\"🎯 RISK DISTRIBUTION SUMMARY\")\n",
    "print(\"=\" * 35)\n",
    "for risk, count in risk_dist.items():\n",
    "    pct = risk_pct[risk]\n",
    "    print(f\"{risk:<15}: {count:>3} households ({pct:>5.1f}%)\")\n",
    "\n",
    "high_very_high = risk_pct['High Risk'] + risk_pct['Very High Risk']\n",
    "print(f\"\\n🔥 HIGH + VERY HIGH RISK: {high_very_high:.1f}% of households\")\n",
    "print(f\"📊 MEAN SUSCEPTIBILITY: {df['susceptibility_score'].mean():.1f}/25\")\n",
    "print(f\"📈 STANDARD DEVIATION: {df['susceptibility_score'].std():.1f}\")"
   ]
  },
  {
   "cell_type": "markdown",
   "metadata": {},
   "source": [
    "# 🔍 SUSCEPTIBILITY PATHWAYS ANALYSIS"
   ]
  },
  {
   "cell_type": "code",
   "execution_count": 5,
   "metadata": {},
   "outputs": [
    {
     "data": {
      "application/vnd.plotly.v1+json": {
       "config": {
        "plotlyServerURL": "https://plot.ly"
       },
       "data": [
        {
         "marker": {
          "color": [
           "#FF6B6B",
           "#4ECDC4",
           "#45B7D1"
          ]
         },
         "name": "Mean Scores",
         "text": [
          "4.8/8",
          "3.7/11",
          "1.2/6"
         ],
         "textposition": "auto",
         "type": "bar",
         "x": [
          "Socioeconomic",
          "Physiological",
          "Infrastructure"
         ],
         "xaxis": "x",
         "y": [
          4.847154471544715,
          3.7252032520325202,
          1.1943089430894307
         ],
         "yaxis": "y"
        },
        {
         "box": {
          "visible": true
         },
         "fillcolor": "#FF6B6B",
         "line": {
          "color": "#FF6B6B"
         },
         "name": "Socioeconomic",
         "opacity": 0.6,
         "type": "violin",
         "x0": "Socioeconomic",
         "xaxis": "x2",
         "y": [
          4.6,
          4.8,
          5.9,
          2.2,
          5,
          5.8,
          4.5,
          5.4,
          4.2,
          2.5,
          4,
          4.8,
          3.3,
          5.9,
          3.7,
          2.5,
          5.7,
          5.1,
          5.4,
          4.2,
          2.4,
          7.3,
          6.1,
          4.6,
          3.8,
          5.2,
          5.2,
          7.1,
          6.8,
          4.4,
          4.5,
          5.4,
          4.5,
          3.7,
          4.7,
          4,
          4.7,
          6.7,
          5.8,
          6,
          3.4,
          4.1,
          1.9,
          7.3,
          4,
          7,
          5.8,
          4.7,
          5.1,
          5.1,
          4.3,
          2.1,
          4.2,
          6.2,
          6.1,
          4.3,
          4.6,
          4.4,
          3.9,
          2.8,
          3.6,
          2.8,
          5.1,
          7.3,
          2.7,
          5.6,
          3.3,
          6,
          4.9,
          5.7,
          5,
          7.8,
          5.5,
          7,
          5.5,
          4.5,
          3.6,
          5.6,
          4.1,
          5.6,
          6.2,
          4.5,
          4.5,
          5.3,
          6.7,
          3.4,
          5.2,
          6.5,
          2.8,
          4.9,
          4.7,
          4.9,
          7.1,
          5.8,
          5.5,
          4,
          3.4,
          4.6,
          4.9,
          4.9,
          3.7,
          6.3,
          4.2,
          5.1,
          2.6,
          5.8,
          3.7,
          4.3,
          4.5,
          5.4,
          6.6,
          3.9,
          5.7,
          4.8,
          6,
          6,
          3.2,
          3.8,
          5,
          5.8,
          4,
          4.5,
          6.6
         ],
         "yaxis": "y2"
        },
        {
         "box": {
          "visible": true
         },
         "fillcolor": "#4ECDC4",
         "line": {
          "color": "#4ECDC4"
         },
         "name": "Physiological",
         "opacity": 0.6,
         "type": "violin",
         "x0": "Physiological",
         "xaxis": "x2",
         "y": [
          4.4,
          2.8,
          3.8,
          1.8,
          4.3,
          5.4,
          3.3,
          5.1,
          1.4,
          3.4,
          4.5,
          2.9,
          3.7,
          3.1,
          2.3,
          2.1,
          4.1,
          2.2,
          3.2,
          5,
          2.1,
          4.9,
          6.6,
          3.5,
          2.6,
          4.3,
          5.1,
          5,
          4.7,
          4.1,
          3.9,
          3.5,
          1.9,
          4.1,
          3.8,
          5.4,
          4.8,
          5.3,
          3,
          3,
          6.3,
          1.6,
          2.2,
          5.5,
          2.8,
          3.3,
          1.7,
          1.9,
          3.9,
          4.6,
          4.2,
          4.4,
          3.7,
          4.4,
          0.9,
          3.5,
          3.4,
          3.8,
          3.5,
          6,
          3.4,
          4.2,
          5.5,
          2.9,
          4.6,
          5.3,
          1.8,
          3.3,
          5.2,
          2.7,
          3.2,
          4.1,
          4.2,
          4.6,
          5,
          2.1,
          3.6,
          3.3,
          5.1,
          5.4,
          1.2,
          2.8,
          6.1,
          4.4,
          3,
          4.2,
          7.3,
          4.6,
          6.1,
          1.5,
          3.9,
          0.4,
          3.1,
          6.1,
          4.5,
          1.4,
          3.2,
          4.2,
          3.9,
          4.2,
          4.1,
          5.8,
          0.9,
          1.1,
          5.4,
          4.5,
          2.3,
          5.1,
          1.9,
          3.5,
          3.6,
          2.3,
          3.4,
          6.7,
          2.5,
          3.2,
          4.4,
          2.1,
          4.7,
          2.2,
          1.6,
          3.4,
          5.9
         ],
         "yaxis": "y2"
        },
        {
         "box": {
          "visible": true
         },
         "fillcolor": "#45B7D1",
         "line": {
          "color": "#45B7D1"
         },
         "name": "Infrastructure",
         "opacity": 0.6,
         "type": "violin",
         "x0": "Infrastructure",
         "xaxis": "x2",
         "y": [
          2.2,
          0.6,
          0.5,
          1.1,
          1.7,
          0.9,
          1.8,
          1.2,
          3.4,
          1,
          0.5,
          1.5,
          2,
          1.5,
          0.1,
          2.1,
          0.9,
          1.8,
          0.5,
          1.1,
          1.7,
          0,
          0.6,
          1.5,
          0,
          0.5,
          1.7,
          0,
          1.4,
          1.1,
          0.3,
          2.8,
          0.6,
          0,
          1.2,
          0.4,
          0.5,
          0.3,
          0,
          1.4,
          1,
          2.9,
          0.3,
          0,
          0.7,
          1.5,
          1.2,
          2,
          0.7,
          0,
          2,
          2.8,
          1.7,
          0.5,
          2.2,
          0.8,
          1.1,
          0.5,
          0.9,
          0,
          1.3,
          2.6,
          0.6,
          1.1,
          2.3,
          1.6,
          1.8,
          0,
          0.5,
          1.5,
          0.5,
          0,
          1.9,
          1.9,
          0.9,
          0.7,
          0.4,
          2,
          0.3,
          1.2,
          2.6,
          2.9,
          1.5,
          0.5,
          2.7,
          0.6,
          1.3,
          1.3,
          1.7,
          1.8,
          2,
          1.7,
          1.2,
          0.2,
          1.5,
          2.3,
          0,
          1,
          1.3,
          1,
          1.7,
          0,
          1.8,
          1.3,
          1.6,
          1.6,
          0.8,
          1.5,
          1.2,
          0,
          0.7,
          1.4,
          0.9,
          0.5,
          2.5,
          0.5,
          1.9,
          1.8,
          0,
          2,
          1,
          1.7,
          3.1
         ],
         "yaxis": "y2"
        },
        {
         "colorscale": [
          [
           0,
           "rgb(165,0,38)"
          ],
          [
           0.1,
           "rgb(215,48,39)"
          ],
          [
           0.2,
           "rgb(244,109,67)"
          ],
          [
           0.3,
           "rgb(253,174,97)"
          ],
          [
           0.4,
           "rgb(254,224,144)"
          ],
          [
           0.5,
           "rgb(255,255,191)"
          ],
          [
           0.6,
           "rgb(224,243,248)"
          ],
          [
           0.7,
           "rgb(171,217,233)"
          ],
          [
           0.8,
           "rgb(116,173,209)"
          ],
          [
           0.9,
           "rgb(69,117,180)"
          ],
          [
           1,
           "rgb(49,54,149)"
          ]
         ],
         "showscale": true,
         "text": [
          [
           1,
           0.09,
           0.12,
           -0.03
          ],
          [
           0.09,
           1,
           0.14,
           -0.13
          ],
          [
           0.12,
           0.14,
           1,
           -0.29
          ],
          [
           -0.03,
           -0.13,
           -0.29,
           1
          ]
         ],
         "textfont": {
          "size": 10
         },
         "texttemplate": "%{text}",
         "type": "heatmap",
         "x": [
          "susceptibility_score",
          "socioeconomic_score",
          "physiological_score",
          "infrastructure_score"
         ],
         "xaxis": "x3",
         "y": [
          "susceptibility_score",
          "socioeconomic_score",
          "physiological_score",
          "infrastructure_score"
         ],
         "yaxis": "y3",
         "z": [
          [
           1,
           0.09426409628270323,
           0.11905655441777213,
           -0.026681063430969754
          ],
          [
           0.09426409628270323,
           1,
           0.14444056874054345,
           -0.13188243357389753
          ],
          [
           0.11905655441777213,
           0.14444056874054345,
           1,
           -0.2906676613894826
          ],
          [
           -0.026681063430969754,
           -0.13188243357389753,
           -0.2906676613894826,
           1
          ]
         ]
        },
        {
         "marker": {
          "color": "rgba(255, 107, 107, 0.8)"
         },
         "orientation": "h",
         "text": [
          "66.7%",
          "8.1%",
          "28.5%",
          "20.3%",
          "15.4%",
          "12.2%",
          "10.6%"
         ],
         "textposition": "auto",
         "type": "bar",
         "x": [
          66.66666666666666,
          8.130081300813007,
          28.455284552845526,
          20.32520325203252,
          15.447154471544716,
          12.195121951219512,
          10.569105691056912
         ],
         "xaxis": "x4",
         "y": [
          "Low Income",
          "Senior (65+)",
          "Hypertension",
          "Diabetes",
          "Poor Health",
          "Informal Housing",
          "No Electricity"
         ],
         "yaxis": "y4"
        }
       ],
       "layout": {
        "annotations": [
         {
          "font": {
           "size": 16
          },
          "showarrow": false,
          "text": "🎯 Susceptibility Pathway Components",
          "x": 0.225,
          "xanchor": "center",
          "xref": "paper",
          "y": 1,
          "yanchor": "bottom",
          "yref": "paper"
         },
         {
          "font": {
           "size": 16
          },
          "showarrow": false,
          "text": "📊 Component Score Distributions",
          "x": 0.775,
          "xanchor": "center",
          "xref": "paper",
          "y": 1,
          "yanchor": "bottom",
          "yref": "paper"
         },
         {
          "font": {
           "size": 16
          },
          "showarrow": false,
          "text": "🔗 Pathway Correlations",
          "x": 0.225,
          "xanchor": "center",
          "xref": "paper",
          "y": 0.375,
          "yanchor": "bottom",
          "yref": "paper"
         },
         {
          "font": {
           "size": 16
          },
          "showarrow": false,
          "text": "⚖️ Risk Factor Contributions",
          "x": 0.775,
          "xanchor": "center",
          "xref": "paper",
          "y": 0.375,
          "yanchor": "bottom",
          "yref": "paper"
         }
        ],
        "height": 900,
        "showlegend": false,
        "template": {
         "data": {
          "bar": [
           {
            "error_x": {
             "color": "#2a3f5f"
            },
            "error_y": {
             "color": "#2a3f5f"
            },
            "marker": {
             "line": {
              "color": "white",
              "width": 0.5
             },
             "pattern": {
              "fillmode": "overlay",
              "size": 10,
              "solidity": 0.2
             }
            },
            "type": "bar"
           }
          ],
          "barpolar": [
           {
            "marker": {
             "line": {
              "color": "white",
              "width": 0.5
             },
             "pattern": {
              "fillmode": "overlay",
              "size": 10,
              "solidity": 0.2
             }
            },
            "type": "barpolar"
           }
          ],
          "carpet": [
           {
            "aaxis": {
             "endlinecolor": "#2a3f5f",
             "gridcolor": "#C8D4E3",
             "linecolor": "#C8D4E3",
             "minorgridcolor": "#C8D4E3",
             "startlinecolor": "#2a3f5f"
            },
            "baxis": {
             "endlinecolor": "#2a3f5f",
             "gridcolor": "#C8D4E3",
             "linecolor": "#C8D4E3",
             "minorgridcolor": "#C8D4E3",
             "startlinecolor": "#2a3f5f"
            },
            "type": "carpet"
           }
          ],
          "choropleth": [
           {
            "colorbar": {
             "outlinewidth": 0,
             "ticks": ""
            },
            "type": "choropleth"
           }
          ],
          "contour": [
           {
            "colorbar": {
             "outlinewidth": 0,
             "ticks": ""
            },
            "colorscale": [
             [
              0,
              "#0d0887"
             ],
             [
              0.1111111111111111,
              "#46039f"
             ],
             [
              0.2222222222222222,
              "#7201a8"
             ],
             [
              0.3333333333333333,
              "#9c179e"
             ],
             [
              0.4444444444444444,
              "#bd3786"
             ],
             [
              0.5555555555555556,
              "#d8576b"
             ],
             [
              0.6666666666666666,
              "#ed7953"
             ],
             [
              0.7777777777777778,
              "#fb9f3a"
             ],
             [
              0.8888888888888888,
              "#fdca26"
             ],
             [
              1,
              "#f0f921"
             ]
            ],
            "type": "contour"
           }
          ],
          "contourcarpet": [
           {
            "colorbar": {
             "outlinewidth": 0,
             "ticks": ""
            },
            "type": "contourcarpet"
           }
          ],
          "heatmap": [
           {
            "colorbar": {
             "outlinewidth": 0,
             "ticks": ""
            },
            "colorscale": [
             [
              0,
              "#0d0887"
             ],
             [
              0.1111111111111111,
              "#46039f"
             ],
             [
              0.2222222222222222,
              "#7201a8"
             ],
             [
              0.3333333333333333,
              "#9c179e"
             ],
             [
              0.4444444444444444,
              "#bd3786"
             ],
             [
              0.5555555555555556,
              "#d8576b"
             ],
             [
              0.6666666666666666,
              "#ed7953"
             ],
             [
              0.7777777777777778,
              "#fb9f3a"
             ],
             [
              0.8888888888888888,
              "#fdca26"
             ],
             [
              1,
              "#f0f921"
             ]
            ],
            "type": "heatmap"
           }
          ],
          "heatmapgl": [
           {
            "colorbar": {
             "outlinewidth": 0,
             "ticks": ""
            },
            "colorscale": [
             [
              0,
              "#0d0887"
             ],
             [
              0.1111111111111111,
              "#46039f"
             ],
             [
              0.2222222222222222,
              "#7201a8"
             ],
             [
              0.3333333333333333,
              "#9c179e"
             ],
             [
              0.4444444444444444,
              "#bd3786"
             ],
             [
              0.5555555555555556,
              "#d8576b"
             ],
             [
              0.6666666666666666,
              "#ed7953"
             ],
             [
              0.7777777777777778,
              "#fb9f3a"
             ],
             [
              0.8888888888888888,
              "#fdca26"
             ],
             [
              1,
              "#f0f921"
             ]
            ],
            "type": "heatmapgl"
           }
          ],
          "histogram": [
           {
            "marker": {
             "pattern": {
              "fillmode": "overlay",
              "size": 10,
              "solidity": 0.2
             }
            },
            "type": "histogram"
           }
          ],
          "histogram2d": [
           {
            "colorbar": {
             "outlinewidth": 0,
             "ticks": ""
            },
            "colorscale": [
             [
              0,
              "#0d0887"
             ],
             [
              0.1111111111111111,
              "#46039f"
             ],
             [
              0.2222222222222222,
              "#7201a8"
             ],
             [
              0.3333333333333333,
              "#9c179e"
             ],
             [
              0.4444444444444444,
              "#bd3786"
             ],
             [
              0.5555555555555556,
              "#d8576b"
             ],
             [
              0.6666666666666666,
              "#ed7953"
             ],
             [
              0.7777777777777778,
              "#fb9f3a"
             ],
             [
              0.8888888888888888,
              "#fdca26"
             ],
             [
              1,
              "#f0f921"
             ]
            ],
            "type": "histogram2d"
           }
          ],
          "histogram2dcontour": [
           {
            "colorbar": {
             "outlinewidth": 0,
             "ticks": ""
            },
            "colorscale": [
             [
              0,
              "#0d0887"
             ],
             [
              0.1111111111111111,
              "#46039f"
             ],
             [
              0.2222222222222222,
              "#7201a8"
             ],
             [
              0.3333333333333333,
              "#9c179e"
             ],
             [
              0.4444444444444444,
              "#bd3786"
             ],
             [
              0.5555555555555556,
              "#d8576b"
             ],
             [
              0.6666666666666666,
              "#ed7953"
             ],
             [
              0.7777777777777778,
              "#fb9f3a"
             ],
             [
              0.8888888888888888,
              "#fdca26"
             ],
             [
              1,
              "#f0f921"
             ]
            ],
            "type": "histogram2dcontour"
           }
          ],
          "mesh3d": [
           {
            "colorbar": {
             "outlinewidth": 0,
             "ticks": ""
            },
            "type": "mesh3d"
           }
          ],
          "parcoords": [
           {
            "line": {
             "colorbar": {
              "outlinewidth": 0,
              "ticks": ""
             }
            },
            "type": "parcoords"
           }
          ],
          "pie": [
           {
            "automargin": true,
            "type": "pie"
           }
          ],
          "scatter": [
           {
            "fillpattern": {
             "fillmode": "overlay",
             "size": 10,
             "solidity": 0.2
            },
            "type": "scatter"
           }
          ],
          "scatter3d": [
           {
            "line": {
             "colorbar": {
              "outlinewidth": 0,
              "ticks": ""
             }
            },
            "marker": {
             "colorbar": {
              "outlinewidth": 0,
              "ticks": ""
             }
            },
            "type": "scatter3d"
           }
          ],
          "scattercarpet": [
           {
            "marker": {
             "colorbar": {
              "outlinewidth": 0,
              "ticks": ""
             }
            },
            "type": "scattercarpet"
           }
          ],
          "scattergeo": [
           {
            "marker": {
             "colorbar": {
              "outlinewidth": 0,
              "ticks": ""
             }
            },
            "type": "scattergeo"
           }
          ],
          "scattergl": [
           {
            "marker": {
             "colorbar": {
              "outlinewidth": 0,
              "ticks": ""
             }
            },
            "type": "scattergl"
           }
          ],
          "scattermapbox": [
           {
            "marker": {
             "colorbar": {
              "outlinewidth": 0,
              "ticks": ""
             }
            },
            "type": "scattermapbox"
           }
          ],
          "scatterpolar": [
           {
            "marker": {
             "colorbar": {
              "outlinewidth": 0,
              "ticks": ""
             }
            },
            "type": "scatterpolar"
           }
          ],
          "scatterpolargl": [
           {
            "marker": {
             "colorbar": {
              "outlinewidth": 0,
              "ticks": ""
             }
            },
            "type": "scatterpolargl"
           }
          ],
          "scatterternary": [
           {
            "marker": {
             "colorbar": {
              "outlinewidth": 0,
              "ticks": ""
             }
            },
            "type": "scatterternary"
           }
          ],
          "surface": [
           {
            "colorbar": {
             "outlinewidth": 0,
             "ticks": ""
            },
            "colorscale": [
             [
              0,
              "#0d0887"
             ],
             [
              0.1111111111111111,
              "#46039f"
             ],
             [
              0.2222222222222222,
              "#7201a8"
             ],
             [
              0.3333333333333333,
              "#9c179e"
             ],
             [
              0.4444444444444444,
              "#bd3786"
             ],
             [
              0.5555555555555556,
              "#d8576b"
             ],
             [
              0.6666666666666666,
              "#ed7953"
             ],
             [
              0.7777777777777778,
              "#fb9f3a"
             ],
             [
              0.8888888888888888,
              "#fdca26"
             ],
             [
              1,
              "#f0f921"
             ]
            ],
            "type": "surface"
           }
          ],
          "table": [
           {
            "cells": {
             "fill": {
              "color": "#EBF0F8"
             },
             "line": {
              "color": "white"
             }
            },
            "header": {
             "fill": {
              "color": "#C8D4E3"
             },
             "line": {
              "color": "white"
             }
            },
            "type": "table"
           }
          ]
         },
         "layout": {
          "annotationdefaults": {
           "arrowcolor": "#2a3f5f",
           "arrowhead": 0,
           "arrowwidth": 1
          },
          "autotypenumbers": "strict",
          "coloraxis": {
           "colorbar": {
            "outlinewidth": 0,
            "ticks": ""
           }
          },
          "colorscale": {
           "diverging": [
            [
             0,
             "#8e0152"
            ],
            [
             0.1,
             "#c51b7d"
            ],
            [
             0.2,
             "#de77ae"
            ],
            [
             0.3,
             "#f1b6da"
            ],
            [
             0.4,
             "#fde0ef"
            ],
            [
             0.5,
             "#f7f7f7"
            ],
            [
             0.6,
             "#e6f5d0"
            ],
            [
             0.7,
             "#b8e186"
            ],
            [
             0.8,
             "#7fbc41"
            ],
            [
             0.9,
             "#4d9221"
            ],
            [
             1,
             "#276419"
            ]
           ],
           "sequential": [
            [
             0,
             "#0d0887"
            ],
            [
             0.1111111111111111,
             "#46039f"
            ],
            [
             0.2222222222222222,
             "#7201a8"
            ],
            [
             0.3333333333333333,
             "#9c179e"
            ],
            [
             0.4444444444444444,
             "#bd3786"
            ],
            [
             0.5555555555555556,
             "#d8576b"
            ],
            [
             0.6666666666666666,
             "#ed7953"
            ],
            [
             0.7777777777777778,
             "#fb9f3a"
            ],
            [
             0.8888888888888888,
             "#fdca26"
            ],
            [
             1,
             "#f0f921"
            ]
           ],
           "sequentialminus": [
            [
             0,
             "#0d0887"
            ],
            [
             0.1111111111111111,
             "#46039f"
            ],
            [
             0.2222222222222222,
             "#7201a8"
            ],
            [
             0.3333333333333333,
             "#9c179e"
            ],
            [
             0.4444444444444444,
             "#bd3786"
            ],
            [
             0.5555555555555556,
             "#d8576b"
            ],
            [
             0.6666666666666666,
             "#ed7953"
            ],
            [
             0.7777777777777778,
             "#fb9f3a"
            ],
            [
             0.8888888888888888,
             "#fdca26"
            ],
            [
             1,
             "#f0f921"
            ]
           ]
          },
          "colorway": [
           "#636efa",
           "#EF553B",
           "#00cc96",
           "#ab63fa",
           "#FFA15A",
           "#19d3f3",
           "#FF6692",
           "#B6E880",
           "#FF97FF",
           "#FECB52"
          ],
          "font": {
           "color": "#2a3f5f"
          },
          "geo": {
           "bgcolor": "white",
           "lakecolor": "white",
           "landcolor": "white",
           "showlakes": true,
           "showland": true,
           "subunitcolor": "#C8D4E3"
          },
          "hoverlabel": {
           "align": "left"
          },
          "hovermode": "closest",
          "mapbox": {
           "style": "light"
          },
          "paper_bgcolor": "white",
          "plot_bgcolor": "white",
          "polar": {
           "angularaxis": {
            "gridcolor": "#EBF0F8",
            "linecolor": "#EBF0F8",
            "ticks": ""
           },
           "bgcolor": "white",
           "radialaxis": {
            "gridcolor": "#EBF0F8",
            "linecolor": "#EBF0F8",
            "ticks": ""
           }
          },
          "scene": {
           "xaxis": {
            "backgroundcolor": "white",
            "gridcolor": "#DFE8F3",
            "gridwidth": 2,
            "linecolor": "#EBF0F8",
            "showbackground": true,
            "ticks": "",
            "zerolinecolor": "#EBF0F8"
           },
           "yaxis": {
            "backgroundcolor": "white",
            "gridcolor": "#DFE8F3",
            "gridwidth": 2,
            "linecolor": "#EBF0F8",
            "showbackground": true,
            "ticks": "",
            "zerolinecolor": "#EBF0F8"
           },
           "zaxis": {
            "backgroundcolor": "white",
            "gridcolor": "#DFE8F3",
            "gridwidth": 2,
            "linecolor": "#EBF0F8",
            "showbackground": true,
            "ticks": "",
            "zerolinecolor": "#EBF0F8"
           }
          },
          "shapedefaults": {
           "line": {
            "color": "#2a3f5f"
           }
          },
          "ternary": {
           "aaxis": {
            "gridcolor": "#DFE8F3",
            "linecolor": "#A2B1C6",
            "ticks": ""
           },
           "baxis": {
            "gridcolor": "#DFE8F3",
            "linecolor": "#A2B1C6",
            "ticks": ""
           },
           "bgcolor": "white",
           "caxis": {
            "gridcolor": "#DFE8F3",
            "linecolor": "#A2B1C6",
            "ticks": ""
           }
          },
          "title": {
           "x": 0.05
          },
          "xaxis": {
           "automargin": true,
           "gridcolor": "#EBF0F8",
           "linecolor": "#EBF0F8",
           "ticks": "",
           "title": {
            "standoff": 15
           },
           "zerolinecolor": "#EBF0F8",
           "zerolinewidth": 2
          },
          "yaxis": {
           "automargin": true,
           "gridcolor": "#EBF0F8",
           "linecolor": "#EBF0F8",
           "ticks": "",
           "title": {
            "standoff": 15
           },
           "zerolinecolor": "#EBF0F8",
           "zerolinewidth": 2
          }
         }
        },
        "title": {
         "font": {
          "size": 20
         },
         "text": "🔍 HEAT-HEALTH SUSCEPTIBILITY PATHWAY ANALYSIS",
         "x": 0.5
        },
        "xaxis": {
         "anchor": "y",
         "domain": [
          0,
          0.45
         ],
         "title": {
          "text": "Pathway Components"
         }
        },
        "xaxis2": {
         "anchor": "y2",
         "domain": [
          0.55,
          1
         ]
        },
        "xaxis3": {
         "anchor": "y3",
         "domain": [
          0,
          0.45
         ]
        },
        "xaxis4": {
         "anchor": "y4",
         "domain": [
          0.55,
          1
         ],
         "title": {
          "text": "Prevalence (%)"
         }
        },
        "yaxis": {
         "anchor": "x",
         "domain": [
          0.625,
          1
         ],
         "title": {
          "text": "Mean Score"
         }
        },
        "yaxis2": {
         "anchor": "x2",
         "domain": [
          0.625,
          1
         ],
         "title": {
          "text": "Score Distribution"
         }
        },
        "yaxis3": {
         "anchor": "x3",
         "domain": [
          0,
          0.375
         ]
        },
        "yaxis4": {
         "anchor": "x4",
         "domain": [
          0,
          0.375
         ]
        }
       }
      }
     },
     "metadata": {},
     "output_type": "display_data"
    },
    {
     "name": "stdout",
     "output_type": "stream",
     "text": [
      "🔍 SUSCEPTIBILITY PATHWAY BREAKDOWN\n",
      "========================================\n",
      "Socioeconomic  : 4.8/8 (60.6% vulnerability)\n",
      "Physiological  : 3.7/11 (33.9% vulnerability)\n",
      "Infrastructure : 1.2/6 (19.9% vulnerability)\n",
      "\n",
      "🎯 KEY VULNERABILITY DRIVERS:\n",
      "• Low Income: 66.7% of households\n",
      "• Hypertension: 28.5% of households\n",
      "• Diabetes: 20.3% of households\n"
     ]
    }
   ],
   "source": [
    "# Calculate pathway component statistics\n",
    "pathway_stats = {\n",
    "    'Socioeconomic': {\n",
    "        'mean_score': df['socioeconomic_score'].mean(),\n",
    "        'max_possible': 8,\n",
    "        'percentage': (df['socioeconomic_score'].mean() / 8) * 100,\n",
    "        'color': '#FF6B6B'\n",
    "    },\n",
    "    'Physiological': {\n",
    "        'mean_score': df['physiological_score'].mean(),\n",
    "        'max_possible': 11,\n",
    "        'percentage': (df['physiological_score'].mean() / 11) * 100,\n",
    "        'color': '#4ECDC4'\n",
    "    },\n",
    "    'Infrastructure': {\n",
    "        'mean_score': df['infrastructure_score'].mean(),\n",
    "        'max_possible': 6,\n",
    "        'percentage': (df['infrastructure_score'].mean() / 6) * 100,\n",
    "        'color': '#45B7D1'\n",
    "    }\n",
    "}\n",
    "\n",
    "# Create pathway analysis visualization\n",
    "fig = make_subplots(\n",
    "    rows=2, cols=2,\n",
    "    subplot_titles=(\n",
    "        '🎯 Susceptibility Pathway Components',\n",
    "        '📊 Component Score Distributions',\n",
    "        '🔗 Pathway Correlations',\n",
    "        '⚖️ Risk Factor Contributions'\n",
    "    ),\n",
    "    specs=[[{\"type\": \"bar\"}, {\"type\": \"violin\"}],\n",
    "           [{\"type\": \"heatmap\"}, {\"type\": \"bar\"}]]\n",
    ")\n",
    "\n",
    "# 1. Pathway component scores\n",
    "pathways = list(pathway_stats.keys())\n",
    "scores = [pathway_stats[p]['mean_score'] for p in pathways]\n",
    "max_scores = [pathway_stats[p]['max_possible'] for p in pathways]\n",
    "colors = [pathway_stats[p]['color'] for p in pathways]\n",
    "\n",
    "fig.add_trace(\n",
    "    go.Bar(\n",
    "        x=pathways,\n",
    "        y=scores,\n",
    "        marker_color=colors,\n",
    "        text=[f\"{s:.1f}/{m}\" for s, m in zip(scores, max_scores)],\n",
    "        textposition='auto',\n",
    "        name='Mean Scores'\n",
    "    ),\n",
    "    row=1, col=1\n",
    ")\n",
    "\n",
    "# 2. Component distributions\n",
    "components = ['socioeconomic_score', 'physiological_score', 'infrastructure_score']\n",
    "component_names = ['Socioeconomic', 'Physiological', 'Infrastructure']\n",
    "for i, (comp, name, color) in enumerate(zip(components, component_names, colors)):\n",
    "    fig.add_trace(\n",
    "        go.Violin(\n",
    "            y=df[comp],\n",
    "            name=name,\n",
    "            box_visible=True,\n",
    "            line_color=color,\n",
    "            fillcolor=color,\n",
    "            opacity=0.6,\n",
    "            x0=name\n",
    "        ),\n",
    "        row=1, col=2\n",
    "    )\n",
    "\n",
    "# 3. Correlation heatmap\n",
    "corr_data = df[['susceptibility_score', 'socioeconomic_score', 'physiological_score', 'infrastructure_score']]\n",
    "correlation_matrix = corr_data.corr()\n",
    "\n",
    "fig.add_trace(\n",
    "    go.Heatmap(\n",
    "        z=correlation_matrix.values,\n",
    "        x=correlation_matrix.columns,\n",
    "        y=correlation_matrix.columns,\n",
    "        colorscale='RdYlBu',\n",
    "        text=correlation_matrix.round(2).values,\n",
    "        texttemplate=\"%{text}\",\n",
    "        textfont={\"size\":10},\n",
    "        showscale=True\n",
    "    ),\n",
    "    row=2, col=1\n",
    ")\n",
    "\n",
    "# 4. Risk factor contributions\n",
    "risk_factors = {\n",
    "    'Low Income': df['is_low_income'].mean() * 100,\n",
    "    'Senior (65+)': df['is_senior'].mean() * 100,\n",
    "    'Hypertension': df['has_hypertension'].mean() * 100,\n",
    "    'Diabetes': df['has_diabetes'].mean() * 100,\n",
    "    'Poor Health': df['poor_health'].mean() * 100,\n",
    "    'Informal Housing': (~df['formal_housing']).mean() * 100,\n",
    "    'No Electricity': (~df['has_electricity']).mean() * 100\n",
    "}\n",
    "\n",
    "fig.add_trace(\n",
    "    go.Bar(\n",
    "        y=list(risk_factors.keys()),\n",
    "        x=list(risk_factors.values()),\n",
    "        orientation='h',\n",
    "        marker_color='rgba(255, 107, 107, 0.8)',\n",
    "        text=[f\"{v:.1f}%\" for v in risk_factors.values()],\n",
    "        textposition='auto'\n",
    "    ),\n",
    "    row=2, col=2\n",
    ")\n",
    "\n",
    "fig.update_layout(\n",
    "    height=900,\n",
    "    title_text=\"🔍 HEAT-HEALTH SUSCEPTIBILITY PATHWAY ANALYSIS\",\n",
    "    title_x=0.5,\n",
    "    title_font_size=20,\n",
    "    showlegend=False\n",
    ")\n",
    "\n",
    "fig.update_xaxes(title_text=\"Pathway Components\", row=1, col=1)\n",
    "fig.update_yaxes(title_text=\"Mean Score\", row=1, col=1)\n",
    "fig.update_yaxes(title_text=\"Score Distribution\", row=1, col=2)\n",
    "fig.update_xaxes(title_text=\"Prevalence (%)\", row=2, col=2)\n",
    "\n",
    "fig.show()\n",
    "\n",
    "print(\"🔍 SUSCEPTIBILITY PATHWAY BREAKDOWN\")\n",
    "print(\"=\" * 40)\n",
    "for pathway, stats in pathway_stats.items():\n",
    "    print(f\"{pathway:<15}: {stats['mean_score']:.1f}/{stats['max_possible']} ({stats['percentage']:.1f}% vulnerability)\")\n",
    "    \n",
    "print(\"\\n🎯 KEY VULNERABILITY DRIVERS:\")\n",
    "for factor, pct in sorted(risk_factors.items(), key=lambda x: x[1], reverse=True)[:3]:\n",
    "    print(f\"• {factor}: {pct:.1f}% of households\")"
   ]
  },
  {
   "cell_type": "markdown",
   "metadata": {},
   "source": [
    "# 🗺️ PLANNING REGION ANALYSIS"
   ]
  },
  {
   "cell_type": "code",
   "execution_count": 6,
   "metadata": {},
   "outputs": [
    {
     "data": {
      "application/vnd.plotly.v1+json": {
       "config": {
        "plotlyServerURL": "https://plot.ly"
       },
       "data": [
        {
         "marker": {
          "color": [
           7.37,
           8.07,
           8.46,
           9.42,
           9.53,
           9.55,
           10.78
          ],
          "colorscale": [
           [
            0,
            "rgb(255,245,240)"
           ],
           [
            0.125,
            "rgb(254,224,210)"
           ],
           [
            0.25,
            "rgb(252,187,161)"
           ],
           [
            0.375,
            "rgb(252,146,114)"
           ],
           [
            0.5,
            "rgb(251,106,74)"
           ],
           [
            0.625,
            "rgb(239,59,44)"
           ],
           [
            0.75,
            "rgb(203,24,29)"
           ],
           [
            0.875,
            "rgb(165,15,21)"
           ],
           [
            1,
            "rgb(103,0,13)"
           ]
          ],
          "showscale": false
         },
         "orientation": "h",
         "text": [
          7.4,
          8.1,
          8.5,
          9.4,
          9.5,
          9.6,
          10.8
         ],
         "textposition": "auto",
         "type": "bar",
         "x": [
          7.37,
          8.07,
          8.46,
          9.42,
          9.53,
          9.55,
          10.78
         ],
         "xaxis": "x",
         "y": [
          "Johannesburg_A",
          "Johannesburg_B",
          "Johannesburg_F",
          "Johannesburg_E",
          "Johannesburg_C",
          "Johannesburg_D",
          "Johannesburg_G"
         ],
         "yaxis": "y"
        },
        {
         "marker": {
          "color": [
           7.37,
           8.07,
           9.53,
           9.55,
           9.42,
           8.46,
           10.78
          ],
          "colorbar": {
           "title": {
            "text": "Susceptibility Score"
           }
          },
          "colorscale": [
           [
            0,
            "#440154"
           ],
           [
            0.1111111111111111,
            "#482878"
           ],
           [
            0.2222222222222222,
            "#3e4989"
           ],
           [
            0.3333333333333333,
            "#31688e"
           ],
           [
            0.4444444444444444,
            "#26828e"
           ],
           [
            0.5555555555555556,
            "#1f9e89"
           ],
           [
            0.6666666666666666,
            "#35b779"
           ],
           [
            0.7777777777777778,
            "#6ece58"
           ],
           [
            0.8888888888888888,
            "#b5de2b"
           ],
           [
            1,
            "#fde725"
           ]
          ],
          "showscale": true,
          "size": [
           36,
           30,
           24,
           62,
           34,
           40,
           20
          ]
         },
         "mode": "markers+text",
         "text": [
          "A",
          "B",
          "C",
          "D",
          "E",
          "F",
          "G"
         ],
         "textposition": "middle right",
         "type": "scatter",
         "x": [
          20.25,
          19.98,
          20.07,
          20.36,
          18.91,
          19.25,
          19.69
         ],
         "xaxis": "x2",
         "y": [
          7.37,
          8.07,
          9.53,
          9.55,
          9.42,
          8.46,
          10.78
         ],
         "yaxis": "y2"
        },
        {
         "marker": {
          "color": "#FF6B6B"
         },
         "name": "Socioeconomic",
         "opacity": 0.8,
         "type": "bar",
         "x": [
          "Johannesburg_A",
          "Johannesburg_B",
          "Johannesburg_C",
          "Johannesburg_D",
          "Johannesburg_E",
          "Johannesburg_F",
          "Johannesburg_G"
         ],
         "xaxis": "x3",
         "y": [
          4.44,
          5.13,
          4.69,
          4.93,
          5.04,
          4.74,
          4.97
         ],
         "yaxis": "y3"
        },
        {
         "marker": {
          "color": "#4ECDC4"
         },
         "name": "Physiological",
         "opacity": 0.8,
         "type": "bar",
         "x": [
          "Johannesburg_A",
          "Johannesburg_B",
          "Johannesburg_C",
          "Johannesburg_D",
          "Johannesburg_E",
          "Johannesburg_F",
          "Johannesburg_G"
         ],
         "xaxis": "x3",
         "y": [
          3.37,
          4.03,
          3.98,
          3.72,
          3.88,
          3.57,
          3.67
         ],
         "yaxis": "y3"
        },
        {
         "marker": {
          "color": "#45B7D1"
         },
         "name": "Infrastructure",
         "opacity": 0.8,
         "type": "bar",
         "x": [
          "Johannesburg_A",
          "Johannesburg_B",
          "Johannesburg_C",
          "Johannesburg_D",
          "Johannesburg_E",
          "Johannesburg_F",
          "Johannesburg_G"
         ],
         "xaxis": "x3",
         "y": [
          1.38,
          0.92,
          0.72,
          1.2,
          1.51,
          1.09,
          1.5
         ],
         "yaxis": "y3"
        },
        {
         "marker": {
          "color": "#E74C3C"
         },
         "name": "Diabetes",
         "opacity": 0.8,
         "type": "bar",
         "x": [
          "Johannesburg_A",
          "Johannesburg_B",
          "Johannesburg_C",
          "Johannesburg_D",
          "Johannesburg_E",
          "Johannesburg_F",
          "Johannesburg_G"
         ],
         "xaxis": "x4",
         "y": [
          11,
          13,
          42,
          35,
          12,
          5,
          20
         ],
         "yaxis": "y4"
        },
        {
         "marker": {
          "color": "#9B59B6"
         },
         "name": "Hypertension",
         "opacity": 0.8,
         "type": "bar",
         "x": [
          "Johannesburg_A",
          "Johannesburg_B",
          "Johannesburg_C",
          "Johannesburg_D",
          "Johannesburg_E",
          "Johannesburg_F",
          "Johannesburg_G"
         ],
         "xaxis": "x4",
         "y": [
          28.000000000000004,
          27,
          25,
          28.999999999999996,
          35,
          25,
          30
         ],
         "yaxis": "y4"
        },
        {
         "marker": {
          "color": "#F39C12"
         },
         "name": "Low Income %",
         "type": "bar",
         "x": [
          "Johannesburg_A",
          "Johannesburg_B",
          "Johannesburg_C",
          "Johannesburg_D",
          "Johannesburg_E",
          "Johannesburg_F",
          "Johannesburg_G"
         ],
         "xaxis": "x5",
         "y": [
          61,
          67,
          67,
          81,
          47,
          65,
          70
         ],
         "yaxis": "y5"
        },
        {
         "domain": {
          "x": [
           0.55,
           1
          ],
          "y": [
           0,
           0.27999999999999997
          ]
         },
         "hole": 0.4,
         "labels": [
          "Region A",
          "Region B",
          "Region C",
          "Region D",
          "Region E",
          "Region F",
          "Region G"
         ],
         "textinfo": "label+percent",
         "type": "pie",
         "values": [
          18,
          15,
          12,
          31,
          17,
          20,
          10
         ]
        }
       ],
       "layout": {
        "annotations": [
         {
          "font": {
           "size": 16
          },
          "showarrow": false,
          "text": "🎯 Susceptibility Score by Region",
          "x": 0.225,
          "xanchor": "center",
          "xref": "paper",
          "y": 1,
          "yanchor": "bottom",
          "yref": "paper"
         },
         {
          "font": {
           "size": 16
          },
          "showarrow": false,
          "text": "🌡️ Temperature vs Susceptibility",
          "x": 0.775,
          "xanchor": "center",
          "xref": "paper",
          "y": 1,
          "yanchor": "bottom",
          "yref": "paper"
         },
         {
          "font": {
           "size": 16
          },
          "showarrow": false,
          "text": "📊 Component Scores by Region",
          "x": 0.225,
          "xanchor": "center",
          "xref": "paper",
          "y": 0.6399999999999999,
          "yanchor": "bottom",
          "yref": "paper"
         },
         {
          "font": {
           "size": 16
          },
          "showarrow": false,
          "text": "🏥 Health Conditions by Region",
          "x": 0.775,
          "xanchor": "center",
          "xref": "paper",
          "y": 0.6399999999999999,
          "yanchor": "bottom",
          "yref": "paper"
         },
         {
          "font": {
           "size": 16
          },
          "showarrow": false,
          "text": "💰 Socioeconomic Indicators",
          "x": 0.225,
          "xanchor": "center",
          "xref": "paper",
          "y": 0.27999999999999997,
          "yanchor": "bottom",
          "yref": "paper"
         },
         {
          "font": {
           "size": 16
          },
          "showarrow": false,
          "text": "📈 Population Distribution",
          "x": 0.775,
          "xanchor": "center",
          "xref": "paper",
          "y": 0.27999999999999997,
          "yanchor": "bottom",
          "yref": "paper"
         }
        ],
        "height": 1200,
        "showlegend": true,
        "template": {
         "data": {
          "bar": [
           {
            "error_x": {
             "color": "#2a3f5f"
            },
            "error_y": {
             "color": "#2a3f5f"
            },
            "marker": {
             "line": {
              "color": "white",
              "width": 0.5
             },
             "pattern": {
              "fillmode": "overlay",
              "size": 10,
              "solidity": 0.2
             }
            },
            "type": "bar"
           }
          ],
          "barpolar": [
           {
            "marker": {
             "line": {
              "color": "white",
              "width": 0.5
             },
             "pattern": {
              "fillmode": "overlay",
              "size": 10,
              "solidity": 0.2
             }
            },
            "type": "barpolar"
           }
          ],
          "carpet": [
           {
            "aaxis": {
             "endlinecolor": "#2a3f5f",
             "gridcolor": "#C8D4E3",
             "linecolor": "#C8D4E3",
             "minorgridcolor": "#C8D4E3",
             "startlinecolor": "#2a3f5f"
            },
            "baxis": {
             "endlinecolor": "#2a3f5f",
             "gridcolor": "#C8D4E3",
             "linecolor": "#C8D4E3",
             "minorgridcolor": "#C8D4E3",
             "startlinecolor": "#2a3f5f"
            },
            "type": "carpet"
           }
          ],
          "choropleth": [
           {
            "colorbar": {
             "outlinewidth": 0,
             "ticks": ""
            },
            "type": "choropleth"
           }
          ],
          "contour": [
           {
            "colorbar": {
             "outlinewidth": 0,
             "ticks": ""
            },
            "colorscale": [
             [
              0,
              "#0d0887"
             ],
             [
              0.1111111111111111,
              "#46039f"
             ],
             [
              0.2222222222222222,
              "#7201a8"
             ],
             [
              0.3333333333333333,
              "#9c179e"
             ],
             [
              0.4444444444444444,
              "#bd3786"
             ],
             [
              0.5555555555555556,
              "#d8576b"
             ],
             [
              0.6666666666666666,
              "#ed7953"
             ],
             [
              0.7777777777777778,
              "#fb9f3a"
             ],
             [
              0.8888888888888888,
              "#fdca26"
             ],
             [
              1,
              "#f0f921"
             ]
            ],
            "type": "contour"
           }
          ],
          "contourcarpet": [
           {
            "colorbar": {
             "outlinewidth": 0,
             "ticks": ""
            },
            "type": "contourcarpet"
           }
          ],
          "heatmap": [
           {
            "colorbar": {
             "outlinewidth": 0,
             "ticks": ""
            },
            "colorscale": [
             [
              0,
              "#0d0887"
             ],
             [
              0.1111111111111111,
              "#46039f"
             ],
             [
              0.2222222222222222,
              "#7201a8"
             ],
             [
              0.3333333333333333,
              "#9c179e"
             ],
             [
              0.4444444444444444,
              "#bd3786"
             ],
             [
              0.5555555555555556,
              "#d8576b"
             ],
             [
              0.6666666666666666,
              "#ed7953"
             ],
             [
              0.7777777777777778,
              "#fb9f3a"
             ],
             [
              0.8888888888888888,
              "#fdca26"
             ],
             [
              1,
              "#f0f921"
             ]
            ],
            "type": "heatmap"
           }
          ],
          "heatmapgl": [
           {
            "colorbar": {
             "outlinewidth": 0,
             "ticks": ""
            },
            "colorscale": [
             [
              0,
              "#0d0887"
             ],
             [
              0.1111111111111111,
              "#46039f"
             ],
             [
              0.2222222222222222,
              "#7201a8"
             ],
             [
              0.3333333333333333,
              "#9c179e"
             ],
             [
              0.4444444444444444,
              "#bd3786"
             ],
             [
              0.5555555555555556,
              "#d8576b"
             ],
             [
              0.6666666666666666,
              "#ed7953"
             ],
             [
              0.7777777777777778,
              "#fb9f3a"
             ],
             [
              0.8888888888888888,
              "#fdca26"
             ],
             [
              1,
              "#f0f921"
             ]
            ],
            "type": "heatmapgl"
           }
          ],
          "histogram": [
           {
            "marker": {
             "pattern": {
              "fillmode": "overlay",
              "size": 10,
              "solidity": 0.2
             }
            },
            "type": "histogram"
           }
          ],
          "histogram2d": [
           {
            "colorbar": {
             "outlinewidth": 0,
             "ticks": ""
            },
            "colorscale": [
             [
              0,
              "#0d0887"
             ],
             [
              0.1111111111111111,
              "#46039f"
             ],
             [
              0.2222222222222222,
              "#7201a8"
             ],
             [
              0.3333333333333333,
              "#9c179e"
             ],
             [
              0.4444444444444444,
              "#bd3786"
             ],
             [
              0.5555555555555556,
              "#d8576b"
             ],
             [
              0.6666666666666666,
              "#ed7953"
             ],
             [
              0.7777777777777778,
              "#fb9f3a"
             ],
             [
              0.8888888888888888,
              "#fdca26"
             ],
             [
              1,
              "#f0f921"
             ]
            ],
            "type": "histogram2d"
           }
          ],
          "histogram2dcontour": [
           {
            "colorbar": {
             "outlinewidth": 0,
             "ticks": ""
            },
            "colorscale": [
             [
              0,
              "#0d0887"
             ],
             [
              0.1111111111111111,
              "#46039f"
             ],
             [
              0.2222222222222222,
              "#7201a8"
             ],
             [
              0.3333333333333333,
              "#9c179e"
             ],
             [
              0.4444444444444444,
              "#bd3786"
             ],
             [
              0.5555555555555556,
              "#d8576b"
             ],
             [
              0.6666666666666666,
              "#ed7953"
             ],
             [
              0.7777777777777778,
              "#fb9f3a"
             ],
             [
              0.8888888888888888,
              "#fdca26"
             ],
             [
              1,
              "#f0f921"
             ]
            ],
            "type": "histogram2dcontour"
           }
          ],
          "mesh3d": [
           {
            "colorbar": {
             "outlinewidth": 0,
             "ticks": ""
            },
            "type": "mesh3d"
           }
          ],
          "parcoords": [
           {
            "line": {
             "colorbar": {
              "outlinewidth": 0,
              "ticks": ""
             }
            },
            "type": "parcoords"
           }
          ],
          "pie": [
           {
            "automargin": true,
            "type": "pie"
           }
          ],
          "scatter": [
           {
            "fillpattern": {
             "fillmode": "overlay",
             "size": 10,
             "solidity": 0.2
            },
            "type": "scatter"
           }
          ],
          "scatter3d": [
           {
            "line": {
             "colorbar": {
              "outlinewidth": 0,
              "ticks": ""
             }
            },
            "marker": {
             "colorbar": {
              "outlinewidth": 0,
              "ticks": ""
             }
            },
            "type": "scatter3d"
           }
          ],
          "scattercarpet": [
           {
            "marker": {
             "colorbar": {
              "outlinewidth": 0,
              "ticks": ""
             }
            },
            "type": "scattercarpet"
           }
          ],
          "scattergeo": [
           {
            "marker": {
             "colorbar": {
              "outlinewidth": 0,
              "ticks": ""
             }
            },
            "type": "scattergeo"
           }
          ],
          "scattergl": [
           {
            "marker": {
             "colorbar": {
              "outlinewidth": 0,
              "ticks": ""
             }
            },
            "type": "scattergl"
           }
          ],
          "scattermapbox": [
           {
            "marker": {
             "colorbar": {
              "outlinewidth": 0,
              "ticks": ""
             }
            },
            "type": "scattermapbox"
           }
          ],
          "scatterpolar": [
           {
            "marker": {
             "colorbar": {
              "outlinewidth": 0,
              "ticks": ""
             }
            },
            "type": "scatterpolar"
           }
          ],
          "scatterpolargl": [
           {
            "marker": {
             "colorbar": {
              "outlinewidth": 0,
              "ticks": ""
             }
            },
            "type": "scatterpolargl"
           }
          ],
          "scatterternary": [
           {
            "marker": {
             "colorbar": {
              "outlinewidth": 0,
              "ticks": ""
             }
            },
            "type": "scatterternary"
           }
          ],
          "surface": [
           {
            "colorbar": {
             "outlinewidth": 0,
             "ticks": ""
            },
            "colorscale": [
             [
              0,
              "#0d0887"
             ],
             [
              0.1111111111111111,
              "#46039f"
             ],
             [
              0.2222222222222222,
              "#7201a8"
             ],
             [
              0.3333333333333333,
              "#9c179e"
             ],
             [
              0.4444444444444444,
              "#bd3786"
             ],
             [
              0.5555555555555556,
              "#d8576b"
             ],
             [
              0.6666666666666666,
              "#ed7953"
             ],
             [
              0.7777777777777778,
              "#fb9f3a"
             ],
             [
              0.8888888888888888,
              "#fdca26"
             ],
             [
              1,
              "#f0f921"
             ]
            ],
            "type": "surface"
           }
          ],
          "table": [
           {
            "cells": {
             "fill": {
              "color": "#EBF0F8"
             },
             "line": {
              "color": "white"
             }
            },
            "header": {
             "fill": {
              "color": "#C8D4E3"
             },
             "line": {
              "color": "white"
             }
            },
            "type": "table"
           }
          ]
         },
         "layout": {
          "annotationdefaults": {
           "arrowcolor": "#2a3f5f",
           "arrowhead": 0,
           "arrowwidth": 1
          },
          "autotypenumbers": "strict",
          "coloraxis": {
           "colorbar": {
            "outlinewidth": 0,
            "ticks": ""
           }
          },
          "colorscale": {
           "diverging": [
            [
             0,
             "#8e0152"
            ],
            [
             0.1,
             "#c51b7d"
            ],
            [
             0.2,
             "#de77ae"
            ],
            [
             0.3,
             "#f1b6da"
            ],
            [
             0.4,
             "#fde0ef"
            ],
            [
             0.5,
             "#f7f7f7"
            ],
            [
             0.6,
             "#e6f5d0"
            ],
            [
             0.7,
             "#b8e186"
            ],
            [
             0.8,
             "#7fbc41"
            ],
            [
             0.9,
             "#4d9221"
            ],
            [
             1,
             "#276419"
            ]
           ],
           "sequential": [
            [
             0,
             "#0d0887"
            ],
            [
             0.1111111111111111,
             "#46039f"
            ],
            [
             0.2222222222222222,
             "#7201a8"
            ],
            [
             0.3333333333333333,
             "#9c179e"
            ],
            [
             0.4444444444444444,
             "#bd3786"
            ],
            [
             0.5555555555555556,
             "#d8576b"
            ],
            [
             0.6666666666666666,
             "#ed7953"
            ],
            [
             0.7777777777777778,
             "#fb9f3a"
            ],
            [
             0.8888888888888888,
             "#fdca26"
            ],
            [
             1,
             "#f0f921"
            ]
           ],
           "sequentialminus": [
            [
             0,
             "#0d0887"
            ],
            [
             0.1111111111111111,
             "#46039f"
            ],
            [
             0.2222222222222222,
             "#7201a8"
            ],
            [
             0.3333333333333333,
             "#9c179e"
            ],
            [
             0.4444444444444444,
             "#bd3786"
            ],
            [
             0.5555555555555556,
             "#d8576b"
            ],
            [
             0.6666666666666666,
             "#ed7953"
            ],
            [
             0.7777777777777778,
             "#fb9f3a"
            ],
            [
             0.8888888888888888,
             "#fdca26"
            ],
            [
             1,
             "#f0f921"
            ]
           ]
          },
          "colorway": [
           "#636efa",
           "#EF553B",
           "#00cc96",
           "#ab63fa",
           "#FFA15A",
           "#19d3f3",
           "#FF6692",
           "#B6E880",
           "#FF97FF",
           "#FECB52"
          ],
          "font": {
           "color": "#2a3f5f"
          },
          "geo": {
           "bgcolor": "white",
           "lakecolor": "white",
           "landcolor": "white",
           "showlakes": true,
           "showland": true,
           "subunitcolor": "#C8D4E3"
          },
          "hoverlabel": {
           "align": "left"
          },
          "hovermode": "closest",
          "mapbox": {
           "style": "light"
          },
          "paper_bgcolor": "white",
          "plot_bgcolor": "white",
          "polar": {
           "angularaxis": {
            "gridcolor": "#EBF0F8",
            "linecolor": "#EBF0F8",
            "ticks": ""
           },
           "bgcolor": "white",
           "radialaxis": {
            "gridcolor": "#EBF0F8",
            "linecolor": "#EBF0F8",
            "ticks": ""
           }
          },
          "scene": {
           "xaxis": {
            "backgroundcolor": "white",
            "gridcolor": "#DFE8F3",
            "gridwidth": 2,
            "linecolor": "#EBF0F8",
            "showbackground": true,
            "ticks": "",
            "zerolinecolor": "#EBF0F8"
           },
           "yaxis": {
            "backgroundcolor": "white",
            "gridcolor": "#DFE8F3",
            "gridwidth": 2,
            "linecolor": "#EBF0F8",
            "showbackground": true,
            "ticks": "",
            "zerolinecolor": "#EBF0F8"
           },
           "zaxis": {
            "backgroundcolor": "white",
            "gridcolor": "#DFE8F3",
            "gridwidth": 2,
            "linecolor": "#EBF0F8",
            "showbackground": true,
            "ticks": "",
            "zerolinecolor": "#EBF0F8"
           }
          },
          "shapedefaults": {
           "line": {
            "color": "#2a3f5f"
           }
          },
          "ternary": {
           "aaxis": {
            "gridcolor": "#DFE8F3",
            "linecolor": "#A2B1C6",
            "ticks": ""
           },
           "baxis": {
            "gridcolor": "#DFE8F3",
            "linecolor": "#A2B1C6",
            "ticks": ""
           },
           "bgcolor": "white",
           "caxis": {
            "gridcolor": "#DFE8F3",
            "linecolor": "#A2B1C6",
            "ticks": ""
           }
          },
          "title": {
           "x": 0.05
          },
          "xaxis": {
           "automargin": true,
           "gridcolor": "#EBF0F8",
           "linecolor": "#EBF0F8",
           "ticks": "",
           "title": {
            "standoff": 15
           },
           "zerolinecolor": "#EBF0F8",
           "zerolinewidth": 2
          },
          "yaxis": {
           "automargin": true,
           "gridcolor": "#EBF0F8",
           "linecolor": "#EBF0F8",
           "ticks": "",
           "title": {
            "standoff": 15
           },
           "zerolinecolor": "#EBF0F8",
           "zerolinewidth": 2
          }
         }
        },
        "title": {
         "font": {
          "size": 20
         },
         "text": "🗺️ JOHANNESBURG PLANNING REGION VULNERABILITY ANALYSIS",
         "x": 0.5
        },
        "xaxis": {
         "anchor": "y",
         "domain": [
          0,
          0.45
         ],
         "title": {
          "text": "Susceptibility Score"
         }
        },
        "xaxis2": {
         "anchor": "y2",
         "domain": [
          0.55,
          1
         ],
         "title": {
          "text": "Temperature (°C)"
         }
        },
        "xaxis3": {
         "anchor": "y3",
         "domain": [
          0,
          0.45
         ]
        },
        "xaxis4": {
         "anchor": "y4",
         "domain": [
          0.55,
          1
         ]
        },
        "xaxis5": {
         "anchor": "y5",
         "domain": [
          0,
          0.45
         ]
        },
        "yaxis": {
         "anchor": "x",
         "domain": [
          0.72,
          1
         ]
        },
        "yaxis2": {
         "anchor": "x2",
         "domain": [
          0.72,
          1
         ],
         "title": {
          "text": "Susceptibility Score"
         }
        },
        "yaxis3": {
         "anchor": "x3",
         "domain": [
          0.36,
          0.6399999999999999
         ],
         "title": {
          "text": "Component Score"
         }
        },
        "yaxis4": {
         "anchor": "x4",
         "domain": [
          0.36,
          0.6399999999999999
         ],
         "title": {
          "text": "Prevalence (%)"
         }
        },
        "yaxis5": {
         "anchor": "x5",
         "domain": [
          0,
          0.27999999999999997
         ],
         "title": {
          "text": "Low Income (%)"
         }
        }
       }
      }
     },
     "metadata": {},
     "output_type": "display_data"
    },
    {
     "name": "stdout",
     "output_type": "stream",
     "text": [
      "🏆 PLANNING REGION VULNERABILITY RANKING\n",
      "=============================================\n",
      "Johannesburg_A: 7.4/25 (18 households, 20.2°C)\n",
      "Johannesburg_B: 8.1/25 (15 households, 20.0°C)\n",
      "Johannesburg_F: 8.5/25 (20 households, 19.2°C)\n",
      "Johannesburg_E: 9.4/25 (17 households, 18.9°C)\n",
      "Johannesburg_C: 9.5/25 (12 households, 20.1°C)\n",
      "Johannesburg_D: 9.6/25 (31 households, 20.4°C)\n",
      "Johannesburg_G: 10.8/25 (10 households, 19.7°C)\n",
      "\n",
      "🔥 HIGHEST RISK: Johannesburg_G (10.8/25)\n",
      "✅ LOWEST RISK: Johannesburg_A (7.4/25)\n"
     ]
    }
   ],
   "source": [
    "# Calculate region statistics\n",
    "region_stats = df.groupby('planning_region').agg({\n",
    "    'susceptibility_score': ['mean', 'std', 'count'],\n",
    "    'socioeconomic_score': 'mean',\n",
    "    'physiological_score': 'mean',\n",
    "    'infrastructure_score': 'mean',\n",
    "    'is_low_income': 'mean',\n",
    "    'has_diabetes': 'mean',\n",
    "    'has_hypertension': 'mean',\n",
    "    'temperature': 'mean'\n",
    "}).round(2)\n",
    "\n",
    "region_stats.columns = ['_'.join(col).strip() for col in region_stats.columns.values]\n",
    "region_stats = region_stats.reset_index()\n",
    "\n",
    "# Create comprehensive region comparison\n",
    "fig = make_subplots(\n",
    "    rows=3, cols=2,\n",
    "    subplot_titles=(\n",
    "        '🎯 Susceptibility Score by Region',\n",
    "        '🌡️ Temperature vs Susceptibility',\n",
    "        '📊 Component Scores by Region',\n",
    "        '🏥 Health Conditions by Region',\n",
    "        '💰 Socioeconomic Indicators',\n",
    "        '📈 Population Distribution'\n",
    "    ),\n",
    "    specs=[[{\"type\": \"bar\"}, {\"type\": \"scatter\"}],\n",
    "           [{\"type\": \"bar\"}, {\"type\": \"bar\"}],\n",
    "           [{\"type\": \"bar\"}, {\"type\": \"pie\"}]],\n",
    "    vertical_spacing=0.08\n",
    ")\n",
    "\n",
    "# 1. Susceptibility by region\n",
    "regions_sorted = region_stats.sort_values('susceptibility_score_mean', ascending=True)\n",
    "colors_gradient = px.colors.sequential.Reds[2:]\n",
    "\n",
    "fig.add_trace(\n",
    "    go.Bar(\n",
    "        x=regions_sorted['susceptibility_score_mean'],\n",
    "        y=regions_sorted['planning_region'],\n",
    "        orientation='h',\n",
    "        marker=dict(\n",
    "            color=regions_sorted['susceptibility_score_mean'],\n",
    "            colorscale='Reds',\n",
    "            showscale=False\n",
    "        ),\n",
    "        text=regions_sorted['susceptibility_score_mean'].round(1),\n",
    "        textposition='auto'\n",
    "    ),\n",
    "    row=1, col=1\n",
    ")\n",
    "\n",
    "# 2. Temperature vs Susceptibility scatter\n",
    "fig.add_trace(\n",
    "    go.Scatter(\n",
    "        x=region_stats['temperature_mean'],\n",
    "        y=region_stats['susceptibility_score_mean'],\n",
    "        mode='markers+text',\n",
    "        marker=dict(\n",
    "            size=region_stats['susceptibility_score_count']*2,\n",
    "            color=region_stats['susceptibility_score_mean'],\n",
    "            colorscale='Viridis',\n",
    "            showscale=True,\n",
    "            colorbar=dict(title=\"Susceptibility Score\")\n",
    "        ),\n",
    "        text=region_stats['planning_region'].str.replace('Johannesburg_', ''),\n",
    "        textposition='middle right'\n",
    "    ),\n",
    "    row=1, col=2\n",
    ")\n",
    "\n",
    "# 3. Component scores by region\n",
    "components = ['socioeconomic_score_mean', 'physiological_score_mean', 'infrastructure_score_mean']\n",
    "component_names = ['Socioeconomic', 'Physiological', 'Infrastructure']\n",
    "colors = ['#FF6B6B', '#4ECDC4', '#45B7D1']\n",
    "\n",
    "for i, (comp, name, color) in enumerate(zip(components, component_names, colors)):\n",
    "    fig.add_trace(\n",
    "        go.Bar(\n",
    "            x=region_stats['planning_region'],\n",
    "            y=region_stats[comp],\n",
    "            name=name,\n",
    "            marker_color=color,\n",
    "            opacity=0.8\n",
    "        ),\n",
    "        row=2, col=1\n",
    "    )\n",
    "\n",
    "# 4. Health conditions by region\n",
    "health_conditions = ['has_diabetes_mean', 'has_hypertension_mean']\n",
    "health_names = ['Diabetes', 'Hypertension']\n",
    "health_colors = ['#E74C3C', '#9B59B6']\n",
    "\n",
    "for i, (cond, name, color) in enumerate(zip(health_conditions, health_names, health_colors)):\n",
    "    fig.add_trace(\n",
    "        go.Bar(\n",
    "            x=region_stats['planning_region'],\n",
    "            y=region_stats[cond] * 100,  # Convert to percentage\n",
    "            name=name,\n",
    "            marker_color=color,\n",
    "            opacity=0.8\n",
    "        ),\n",
    "        row=2, col=2\n",
    "    )\n",
    "\n",
    "# 5. Low income by region\n",
    "fig.add_trace(\n",
    "    go.Bar(\n",
    "        x=region_stats['planning_region'],\n",
    "        y=region_stats['is_low_income_mean'] * 100,\n",
    "        marker_color='#F39C12',\n",
    "        name='Low Income %'\n",
    "    ),\n",
    "    row=3, col=1\n",
    ")\n",
    "\n",
    "# 6. Population distribution pie\n",
    "fig.add_trace(\n",
    "    go.Pie(\n",
    "        labels=region_stats['planning_region'].str.replace('Johannesburg_', 'Region '),\n",
    "        values=region_stats['susceptibility_score_count'],\n",
    "        hole=0.4,\n",
    "        textinfo='label+percent'\n",
    "    ),\n",
    "    row=3, col=2\n",
    ")\n",
    "\n",
    "fig.update_layout(\n",
    "    height=1200,\n",
    "    title_text=\"🗺️ JOHANNESBURG PLANNING REGION VULNERABILITY ANALYSIS\",\n",
    "    title_x=0.5,\n",
    "    title_font_size=20,\n",
    "    showlegend=True\n",
    ")\n",
    "\n",
    "# Update axes labels\n",
    "fig.update_xaxes(title_text=\"Susceptibility Score\", row=1, col=1)\n",
    "fig.update_xaxes(title_text=\"Temperature (°C)\", row=1, col=2)\n",
    "fig.update_yaxes(title_text=\"Susceptibility Score\", row=1, col=2)\n",
    "fig.update_yaxes(title_text=\"Component Score\", row=2, col=1)\n",
    "fig.update_yaxes(title_text=\"Prevalence (%)\", row=2, col=2)\n",
    "fig.update_yaxes(title_text=\"Low Income (%)\", row=3, col=1)\n",
    "\n",
    "fig.show()\n",
    "\n",
    "# Print region ranking\n",
    "print(\"🏆 PLANNING REGION VULNERABILITY RANKING\")\n",
    "print(\"=\" * 45)\n",
    "for i, row in regions_sorted.iterrows():\n",
    "    region = row['planning_region']\n",
    "    score = row['susceptibility_score_mean']\n",
    "    count = int(row['susceptibility_score_count'])\n",
    "    temp = row['temperature_mean']\n",
    "    print(f\"{region}: {score:.1f}/25 ({count} households, {temp:.1f}°C)\")\n",
    "    \n",
    "print(f\"\\n🔥 HIGHEST RISK: {regions_sorted.iloc[-1]['planning_region']} ({regions_sorted.iloc[-1]['susceptibility_score_mean']:.1f}/25)\")\n",
    "print(f\"✅ LOWEST RISK: {regions_sorted.iloc[0]['planning_region']} ({regions_sorted.iloc[0]['susceptibility_score_mean']:.1f}/25)\")"
   ]
  },
  {
   "cell_type": "markdown",
   "metadata": {},
   "source": [
    "# ⚡ COMPOUND RISK INTERSECTION ANALYSIS"
   ]
  },
  {
   "cell_type": "code",
   "execution_count": 7,
   "metadata": {},
   "outputs": [
    {
     "data": {
      "application/vnd.plotly.v1+json": {
       "config": {
        "plotlyServerURL": "https://plot.ly"
       },
       "data": [
        {
         "marker": {
          "color": [
           "#2ECC71",
           "#F39C12",
           "#E74C3C"
          ]
         },
         "text": [
          "8.9\n(n=71)",
          "9.2\n(n=44)",
          "7.9\n(n=8)"
         ],
         "textposition": "auto",
         "type": "bar",
         "x": [
          0,
          1,
          2
         ],
         "xaxis": "x",
         "y": [
          8.935211267605634,
          9.172727272727274,
          7.9125
         ],
         "yaxis": "y"
        },
        {
         "marker": {
          "color": "rgba(231, 76, 60, 0.7)"
         },
         "orientation": "h",
         "text": [
          "6.5%",
          "1.6%",
          "6.5%",
          "6.5%",
          "0.0%"
         ],
         "textposition": "auto",
         "type": "bar",
         "x": [
          6.504065040650407,
          1.6260162601626018,
          6.504065040650407,
          6.504065040650407,
          0
         ],
         "xaxis": "x2",
         "y": [
          "Senior + Low Income",
          "Informal Housing + Poor Health",
          "No Electricity + Low Income",
          "Multiple Chronic Conditions",
          "Senior + Multiple Conditions"
         ],
         "yaxis": "y2"
        },
        {
         "colorscale": [
          [
           0,
           "rgb(255,245,240)"
          ],
          [
           0.125,
           "rgb(254,224,210)"
          ],
          [
           0.25,
           "rgb(252,187,161)"
          ],
          [
           0.375,
           "rgb(252,146,114)"
          ],
          [
           0.5,
           "rgb(251,106,74)"
          ],
          [
           0.625,
           "rgb(239,59,44)"
          ],
          [
           0.75,
           "rgb(203,24,29)"
          ],
          [
           0.875,
           "rgb(165,15,21)"
          ],
          [
           1,
           "rgb(103,0,13)"
          ]
         ],
         "showscale": true,
         "text": [
          [
           66.7,
           6.5,
           18.7,
           13,
           9.8
          ],
          [
           6.5,
           8.1,
           4.1,
           1.6,
           1.6
          ],
          [
           18.7,
           4.1,
           28.5,
           6.5,
           4.1
          ],
          [
           13,
           1.6,
           6.5,
           20.3,
           4.1
          ],
          [
           9.8,
           1.6,
           4.1,
           4.1,
           15.4
          ]
         ],
         "textfont": {
          "size": 10
         },
         "texttemplate": "%{text}%",
         "type": "heatmap",
         "x": [
          "Low Income",
          "Senior",
          "Hypertension",
          "Diabetes",
          "Poor Health"
         ],
         "xaxis": "x3",
         "y": [
          "Low Income",
          "Senior",
          "Hypertension",
          "Diabetes",
          "Poor Health"
         ],
         "yaxis": "y3",
         "z": [
          [
           66.66666666666666,
           6.504065040650407,
           18.69918699186992,
           13.008130081300814,
           9.75609756097561
          ],
          [
           6.504065040650407,
           8.130081300813007,
           4.0650406504065035,
           1.6260162601626018,
           1.6260162601626018
          ],
          [
           18.69918699186992,
           4.0650406504065035,
           28.455284552845526,
           6.504065040650407,
           4.0650406504065035
          ],
          [
           13.008130081300814,
           1.6260162601626018,
           6.504065040650407,
           20.32520325203252,
           4.0650406504065035
          ],
          [
           9.75609756097561,
           1.6260162601626018,
           4.0650406504065035,
           4.0650406504065035,
           15.447154471544716
          ]
         ]
        },
        {
         "marker": {
          "color": "rgb(252,187,161)"
         },
         "name": "0-1 factors",
         "showlegend": false,
         "type": "box",
         "xaxis": "x4",
         "y": [
          8.4,
          9.5,
          5.4,
          6.7,
          8,
          5.8,
          7,
          7.9,
          8.7,
          7,
          8.1,
          9.8,
          7.3,
          7.1,
          8.4,
          5.3,
          9.2,
          5.4,
          8.5,
          6.7,
          11.4,
          10.4,
          8.8,
          9.5,
          7.7,
          10.5,
          7.3,
          3.6,
          10.1,
          12.3,
          12,
          10.3,
          10.9,
          11.3,
          12.4,
          5.8,
          7,
          8.5,
          11.3,
          5.5,
          6.5,
          8.7,
          8.5,
          10.9,
          8.2,
          10.9,
          6,
          3.7,
          10,
          8.3,
          10,
          12,
          7.5,
          6,
          4.3,
          8,
          13.1,
          10.9,
          8
         ],
         "yaxis": "y4"
        },
        {
         "marker": {
          "color": "rgb(252,146,114)"
         },
         "name": "2-3 factors",
         "showlegend": false,
         "type": "box",
         "xaxis": "x4",
         "y": [
          8.3,
          6.3,
          4.9,
          5.9,
          8.9,
          8.9,
          7,
          6,
          5.8,
          11.7,
          8.2,
          8.5,
          5.6,
          9.4,
          9.8,
          7.7,
          10.3,
          11.8,
          11.8,
          7.9,
          6.2,
          7.1,
          12.4,
          12.7,
          11.4,
          9.8,
          7.8,
          8.1,
          11.1,
          12.4,
          10.7,
          9.1,
          11.6,
          7.7,
          7.6,
          8.3,
          12.3,
          9.8,
          7.3,
          10.9,
          7.7,
          16.7,
          13.4,
          12.6,
          7.6,
          10.3,
          10,
          9.7,
          8,
          8.1,
          7.6,
          9.7,
          11.8,
          8.8,
          14.1,
          8,
          13.5,
          8.4,
          11.2
         ],
         "yaxis": "y4"
        },
        {
         "marker": {
          "color": "rgb(251,106,74)"
         },
         "name": "4-5 factors",
         "showlegend": false,
         "type": "box",
         "xaxis": "x4",
         "y": [
          13.2,
          9.5,
          7.9,
          7.3,
          8.9
         ],
         "yaxis": "y4"
        }
       ],
       "layout": {
        "annotations": [
         {
          "font": {
           "size": 16
          },
          "showarrow": false,
          "text": "🎯 Chronic Conditions Impact",
          "x": 0.225,
          "xanchor": "center",
          "xref": "paper",
          "y": 1,
          "yanchor": "bottom",
          "yref": "paper"
         },
         {
          "font": {
           "size": 16
          },
          "showarrow": false,
          "text": "⚡ Compound Risk Prevalence",
          "x": 0.775,
          "xanchor": "center",
          "xref": "paper",
          "y": 1,
          "yanchor": "bottom",
          "yref": "paper"
         },
         {
          "font": {
           "size": 16
          },
          "showarrow": false,
          "text": "🔗 Risk Factor Intersections",
          "x": 0.225,
          "xanchor": "center",
          "xref": "paper",
          "y": 0.375,
          "yanchor": "bottom",
          "yref": "paper"
         },
         {
          "font": {
           "size": 16
          },
          "showarrow": false,
          "text": "📊 Vulnerability by Multiple Factors",
          "x": 0.775,
          "xanchor": "center",
          "xref": "paper",
          "y": 0.375,
          "yanchor": "bottom",
          "yref": "paper"
         }
        ],
        "height": 900,
        "showlegend": false,
        "template": {
         "data": {
          "bar": [
           {
            "error_x": {
             "color": "#2a3f5f"
            },
            "error_y": {
             "color": "#2a3f5f"
            },
            "marker": {
             "line": {
              "color": "white",
              "width": 0.5
             },
             "pattern": {
              "fillmode": "overlay",
              "size": 10,
              "solidity": 0.2
             }
            },
            "type": "bar"
           }
          ],
          "barpolar": [
           {
            "marker": {
             "line": {
              "color": "white",
              "width": 0.5
             },
             "pattern": {
              "fillmode": "overlay",
              "size": 10,
              "solidity": 0.2
             }
            },
            "type": "barpolar"
           }
          ],
          "carpet": [
           {
            "aaxis": {
             "endlinecolor": "#2a3f5f",
             "gridcolor": "#C8D4E3",
             "linecolor": "#C8D4E3",
             "minorgridcolor": "#C8D4E3",
             "startlinecolor": "#2a3f5f"
            },
            "baxis": {
             "endlinecolor": "#2a3f5f",
             "gridcolor": "#C8D4E3",
             "linecolor": "#C8D4E3",
             "minorgridcolor": "#C8D4E3",
             "startlinecolor": "#2a3f5f"
            },
            "type": "carpet"
           }
          ],
          "choropleth": [
           {
            "colorbar": {
             "outlinewidth": 0,
             "ticks": ""
            },
            "type": "choropleth"
           }
          ],
          "contour": [
           {
            "colorbar": {
             "outlinewidth": 0,
             "ticks": ""
            },
            "colorscale": [
             [
              0,
              "#0d0887"
             ],
             [
              0.1111111111111111,
              "#46039f"
             ],
             [
              0.2222222222222222,
              "#7201a8"
             ],
             [
              0.3333333333333333,
              "#9c179e"
             ],
             [
              0.4444444444444444,
              "#bd3786"
             ],
             [
              0.5555555555555556,
              "#d8576b"
             ],
             [
              0.6666666666666666,
              "#ed7953"
             ],
             [
              0.7777777777777778,
              "#fb9f3a"
             ],
             [
              0.8888888888888888,
              "#fdca26"
             ],
             [
              1,
              "#f0f921"
             ]
            ],
            "type": "contour"
           }
          ],
          "contourcarpet": [
           {
            "colorbar": {
             "outlinewidth": 0,
             "ticks": ""
            },
            "type": "contourcarpet"
           }
          ],
          "heatmap": [
           {
            "colorbar": {
             "outlinewidth": 0,
             "ticks": ""
            },
            "colorscale": [
             [
              0,
              "#0d0887"
             ],
             [
              0.1111111111111111,
              "#46039f"
             ],
             [
              0.2222222222222222,
              "#7201a8"
             ],
             [
              0.3333333333333333,
              "#9c179e"
             ],
             [
              0.4444444444444444,
              "#bd3786"
             ],
             [
              0.5555555555555556,
              "#d8576b"
             ],
             [
              0.6666666666666666,
              "#ed7953"
             ],
             [
              0.7777777777777778,
              "#fb9f3a"
             ],
             [
              0.8888888888888888,
              "#fdca26"
             ],
             [
              1,
              "#f0f921"
             ]
            ],
            "type": "heatmap"
           }
          ],
          "heatmapgl": [
           {
            "colorbar": {
             "outlinewidth": 0,
             "ticks": ""
            },
            "colorscale": [
             [
              0,
              "#0d0887"
             ],
             [
              0.1111111111111111,
              "#46039f"
             ],
             [
              0.2222222222222222,
              "#7201a8"
             ],
             [
              0.3333333333333333,
              "#9c179e"
             ],
             [
              0.4444444444444444,
              "#bd3786"
             ],
             [
              0.5555555555555556,
              "#d8576b"
             ],
             [
              0.6666666666666666,
              "#ed7953"
             ],
             [
              0.7777777777777778,
              "#fb9f3a"
             ],
             [
              0.8888888888888888,
              "#fdca26"
             ],
             [
              1,
              "#f0f921"
             ]
            ],
            "type": "heatmapgl"
           }
          ],
          "histogram": [
           {
            "marker": {
             "pattern": {
              "fillmode": "overlay",
              "size": 10,
              "solidity": 0.2
             }
            },
            "type": "histogram"
           }
          ],
          "histogram2d": [
           {
            "colorbar": {
             "outlinewidth": 0,
             "ticks": ""
            },
            "colorscale": [
             [
              0,
              "#0d0887"
             ],
             [
              0.1111111111111111,
              "#46039f"
             ],
             [
              0.2222222222222222,
              "#7201a8"
             ],
             [
              0.3333333333333333,
              "#9c179e"
             ],
             [
              0.4444444444444444,
              "#bd3786"
             ],
             [
              0.5555555555555556,
              "#d8576b"
             ],
             [
              0.6666666666666666,
              "#ed7953"
             ],
             [
              0.7777777777777778,
              "#fb9f3a"
             ],
             [
              0.8888888888888888,
              "#fdca26"
             ],
             [
              1,
              "#f0f921"
             ]
            ],
            "type": "histogram2d"
           }
          ],
          "histogram2dcontour": [
           {
            "colorbar": {
             "outlinewidth": 0,
             "ticks": ""
            },
            "colorscale": [
             [
              0,
              "#0d0887"
             ],
             [
              0.1111111111111111,
              "#46039f"
             ],
             [
              0.2222222222222222,
              "#7201a8"
             ],
             [
              0.3333333333333333,
              "#9c179e"
             ],
             [
              0.4444444444444444,
              "#bd3786"
             ],
             [
              0.5555555555555556,
              "#d8576b"
             ],
             [
              0.6666666666666666,
              "#ed7953"
             ],
             [
              0.7777777777777778,
              "#fb9f3a"
             ],
             [
              0.8888888888888888,
              "#fdca26"
             ],
             [
              1,
              "#f0f921"
             ]
            ],
            "type": "histogram2dcontour"
           }
          ],
          "mesh3d": [
           {
            "colorbar": {
             "outlinewidth": 0,
             "ticks": ""
            },
            "type": "mesh3d"
           }
          ],
          "parcoords": [
           {
            "line": {
             "colorbar": {
              "outlinewidth": 0,
              "ticks": ""
             }
            },
            "type": "parcoords"
           }
          ],
          "pie": [
           {
            "automargin": true,
            "type": "pie"
           }
          ],
          "scatter": [
           {
            "fillpattern": {
             "fillmode": "overlay",
             "size": 10,
             "solidity": 0.2
            },
            "type": "scatter"
           }
          ],
          "scatter3d": [
           {
            "line": {
             "colorbar": {
              "outlinewidth": 0,
              "ticks": ""
             }
            },
            "marker": {
             "colorbar": {
              "outlinewidth": 0,
              "ticks": ""
             }
            },
            "type": "scatter3d"
           }
          ],
          "scattercarpet": [
           {
            "marker": {
             "colorbar": {
              "outlinewidth": 0,
              "ticks": ""
             }
            },
            "type": "scattercarpet"
           }
          ],
          "scattergeo": [
           {
            "marker": {
             "colorbar": {
              "outlinewidth": 0,
              "ticks": ""
             }
            },
            "type": "scattergeo"
           }
          ],
          "scattergl": [
           {
            "marker": {
             "colorbar": {
              "outlinewidth": 0,
              "ticks": ""
             }
            },
            "type": "scattergl"
           }
          ],
          "scattermapbox": [
           {
            "marker": {
             "colorbar": {
              "outlinewidth": 0,
              "ticks": ""
             }
            },
            "type": "scattermapbox"
           }
          ],
          "scatterpolar": [
           {
            "marker": {
             "colorbar": {
              "outlinewidth": 0,
              "ticks": ""
             }
            },
            "type": "scatterpolar"
           }
          ],
          "scatterpolargl": [
           {
            "marker": {
             "colorbar": {
              "outlinewidth": 0,
              "ticks": ""
             }
            },
            "type": "scatterpolargl"
           }
          ],
          "scatterternary": [
           {
            "marker": {
             "colorbar": {
              "outlinewidth": 0,
              "ticks": ""
             }
            },
            "type": "scatterternary"
           }
          ],
          "surface": [
           {
            "colorbar": {
             "outlinewidth": 0,
             "ticks": ""
            },
            "colorscale": [
             [
              0,
              "#0d0887"
             ],
             [
              0.1111111111111111,
              "#46039f"
             ],
             [
              0.2222222222222222,
              "#7201a8"
             ],
             [
              0.3333333333333333,
              "#9c179e"
             ],
             [
              0.4444444444444444,
              "#bd3786"
             ],
             [
              0.5555555555555556,
              "#d8576b"
             ],
             [
              0.6666666666666666,
              "#ed7953"
             ],
             [
              0.7777777777777778,
              "#fb9f3a"
             ],
             [
              0.8888888888888888,
              "#fdca26"
             ],
             [
              1,
              "#f0f921"
             ]
            ],
            "type": "surface"
           }
          ],
          "table": [
           {
            "cells": {
             "fill": {
              "color": "#EBF0F8"
             },
             "line": {
              "color": "white"
             }
            },
            "header": {
             "fill": {
              "color": "#C8D4E3"
             },
             "line": {
              "color": "white"
             }
            },
            "type": "table"
           }
          ]
         },
         "layout": {
          "annotationdefaults": {
           "arrowcolor": "#2a3f5f",
           "arrowhead": 0,
           "arrowwidth": 1
          },
          "autotypenumbers": "strict",
          "coloraxis": {
           "colorbar": {
            "outlinewidth": 0,
            "ticks": ""
           }
          },
          "colorscale": {
           "diverging": [
            [
             0,
             "#8e0152"
            ],
            [
             0.1,
             "#c51b7d"
            ],
            [
             0.2,
             "#de77ae"
            ],
            [
             0.3,
             "#f1b6da"
            ],
            [
             0.4,
             "#fde0ef"
            ],
            [
             0.5,
             "#f7f7f7"
            ],
            [
             0.6,
             "#e6f5d0"
            ],
            [
             0.7,
             "#b8e186"
            ],
            [
             0.8,
             "#7fbc41"
            ],
            [
             0.9,
             "#4d9221"
            ],
            [
             1,
             "#276419"
            ]
           ],
           "sequential": [
            [
             0,
             "#0d0887"
            ],
            [
             0.1111111111111111,
             "#46039f"
            ],
            [
             0.2222222222222222,
             "#7201a8"
            ],
            [
             0.3333333333333333,
             "#9c179e"
            ],
            [
             0.4444444444444444,
             "#bd3786"
            ],
            [
             0.5555555555555556,
             "#d8576b"
            ],
            [
             0.6666666666666666,
             "#ed7953"
            ],
            [
             0.7777777777777778,
             "#fb9f3a"
            ],
            [
             0.8888888888888888,
             "#fdca26"
            ],
            [
             1,
             "#f0f921"
            ]
           ],
           "sequentialminus": [
            [
             0,
             "#0d0887"
            ],
            [
             0.1111111111111111,
             "#46039f"
            ],
            [
             0.2222222222222222,
             "#7201a8"
            ],
            [
             0.3333333333333333,
             "#9c179e"
            ],
            [
             0.4444444444444444,
             "#bd3786"
            ],
            [
             0.5555555555555556,
             "#d8576b"
            ],
            [
             0.6666666666666666,
             "#ed7953"
            ],
            [
             0.7777777777777778,
             "#fb9f3a"
            ],
            [
             0.8888888888888888,
             "#fdca26"
            ],
            [
             1,
             "#f0f921"
            ]
           ]
          },
          "colorway": [
           "#636efa",
           "#EF553B",
           "#00cc96",
           "#ab63fa",
           "#FFA15A",
           "#19d3f3",
           "#FF6692",
           "#B6E880",
           "#FF97FF",
           "#FECB52"
          ],
          "font": {
           "color": "#2a3f5f"
          },
          "geo": {
           "bgcolor": "white",
           "lakecolor": "white",
           "landcolor": "white",
           "showlakes": true,
           "showland": true,
           "subunitcolor": "#C8D4E3"
          },
          "hoverlabel": {
           "align": "left"
          },
          "hovermode": "closest",
          "mapbox": {
           "style": "light"
          },
          "paper_bgcolor": "white",
          "plot_bgcolor": "white",
          "polar": {
           "angularaxis": {
            "gridcolor": "#EBF0F8",
            "linecolor": "#EBF0F8",
            "ticks": ""
           },
           "bgcolor": "white",
           "radialaxis": {
            "gridcolor": "#EBF0F8",
            "linecolor": "#EBF0F8",
            "ticks": ""
           }
          },
          "scene": {
           "xaxis": {
            "backgroundcolor": "white",
            "gridcolor": "#DFE8F3",
            "gridwidth": 2,
            "linecolor": "#EBF0F8",
            "showbackground": true,
            "ticks": "",
            "zerolinecolor": "#EBF0F8"
           },
           "yaxis": {
            "backgroundcolor": "white",
            "gridcolor": "#DFE8F3",
            "gridwidth": 2,
            "linecolor": "#EBF0F8",
            "showbackground": true,
            "ticks": "",
            "zerolinecolor": "#EBF0F8"
           },
           "zaxis": {
            "backgroundcolor": "white",
            "gridcolor": "#DFE8F3",
            "gridwidth": 2,
            "linecolor": "#EBF0F8",
            "showbackground": true,
            "ticks": "",
            "zerolinecolor": "#EBF0F8"
           }
          },
          "shapedefaults": {
           "line": {
            "color": "#2a3f5f"
           }
          },
          "ternary": {
           "aaxis": {
            "gridcolor": "#DFE8F3",
            "linecolor": "#A2B1C6",
            "ticks": ""
           },
           "baxis": {
            "gridcolor": "#DFE8F3",
            "linecolor": "#A2B1C6",
            "ticks": ""
           },
           "bgcolor": "white",
           "caxis": {
            "gridcolor": "#DFE8F3",
            "linecolor": "#A2B1C6",
            "ticks": ""
           }
          },
          "title": {
           "x": 0.05
          },
          "xaxis": {
           "automargin": true,
           "gridcolor": "#EBF0F8",
           "linecolor": "#EBF0F8",
           "ticks": "",
           "title": {
            "standoff": 15
           },
           "zerolinecolor": "#EBF0F8",
           "zerolinewidth": 2
          },
          "yaxis": {
           "automargin": true,
           "gridcolor": "#EBF0F8",
           "linecolor": "#EBF0F8",
           "ticks": "",
           "title": {
            "standoff": 15
           },
           "zerolinecolor": "#EBF0F8",
           "zerolinewidth": 2
          }
         }
        },
        "title": {
         "font": {
          "size": 20
         },
         "text": "⚡ COMPOUND RISK INTERSECTION ANALYSIS",
         "x": 0.5
        },
        "xaxis": {
         "anchor": "y",
         "domain": [
          0,
          0.45
         ],
         "title": {
          "text": "Number of Chronic Conditions"
         }
        },
        "xaxis2": {
         "anchor": "y2",
         "domain": [
          0.55,
          1
         ],
         "title": {
          "text": "Prevalence (%)"
         }
        },
        "xaxis3": {
         "anchor": "y3",
         "domain": [
          0,
          0.45
         ]
        },
        "xaxis4": {
         "anchor": "y4",
         "domain": [
          0.55,
          1
         ]
        },
        "yaxis": {
         "anchor": "x",
         "domain": [
          0.625,
          1
         ],
         "title": {
          "text": "Mean Susceptibility Score"
         }
        },
        "yaxis2": {
         "anchor": "x2",
         "domain": [
          0.625,
          1
         ]
        },
        "yaxis3": {
         "anchor": "x3",
         "domain": [
          0,
          0.375
         ]
        },
        "yaxis4": {
         "anchor": "x4",
         "domain": [
          0,
          0.375
         ],
         "title": {
          "text": "Susceptibility Score"
         }
        }
       }
      }
     },
     "metadata": {},
     "output_type": "display_data"
    },
    {
     "name": "stdout",
     "output_type": "stream",
     "text": [
      "⚡ COMPOUND RISK ANALYSIS SUMMARY\n",
      "========================================\n",
      "📊 Chronic Conditions Impact:\n",
      "  0 condition(s): 8.9 avg score (71 households)\n",
      "  1 condition(s): 9.2 avg score (44 households)\n",
      "  2 condition(s): 7.9 avg score (8 households)\n",
      "\n",
      "🔥 Highest Risk Intersections:\n",
      "  • Senior + Low Income: 6.5% of households\n",
      "  • No Electricity + Low Income: 6.5% of households\n",
      "  • Multiple Chronic Conditions: 6.5% of households\n",
      "\n",
      "🚨 EXTREME VULNERABILITY (4+ risk factors):\n",
      "   5 households (4.1%) with 9.4 avg susceptibility\n"
     ]
    }
   ],
   "source": [
    "# Analyze compound risks\n",
    "df['age_income_risk'] = df['is_senior'] & df['is_low_income']\n",
    "df['housing_health_risk'] = (~df['formal_housing']) & df['poor_health']\n",
    "df['electricity_income_risk'] = (~df['has_electricity']) & df['is_low_income']\n",
    "\n",
    "# Analyze chronic conditions impact\n",
    "chronic_impact = df.groupby('chronic_conditions_count')['susceptibility_score'].agg(['mean', 'count']).reset_index()\n",
    "\n",
    "# Create compound risk visualization\n",
    "fig = make_subplots(\n",
    "    rows=2, cols=2,\n",
    "    subplot_titles=(\n",
    "        '🎯 Chronic Conditions Impact',\n",
    "        '⚡ Compound Risk Prevalence',\n",
    "        '🔗 Risk Factor Intersections',\n",
    "        '📊 Vulnerability by Multiple Factors'\n",
    "    ),\n",
    "    specs=[[{\"type\": \"bar\"}, {\"type\": \"bar\"}],\n",
    "           [{\"type\": \"heatmap\"}, {\"type\": \"box\"}]]\n",
    ")\n",
    "\n",
    "# 1. Chronic conditions impact\n",
    "fig.add_trace(\n",
    "    go.Bar(\n",
    "        x=chronic_impact['chronic_conditions_count'],\n",
    "        y=chronic_impact['mean'],\n",
    "        marker_color=['#2ECC71', '#F39C12', '#E74C3C'][:len(chronic_impact)],\n",
    "        text=[f\"{m:.1f}\\n(n={c})\" for m, c in zip(chronic_impact['mean'], chronic_impact['count'])],\n",
    "        textposition='auto'\n",
    "    ),\n",
    "    row=1, col=1\n",
    ")\n",
    "\n",
    "# 2. Compound risk prevalence\n",
    "compound_risks = {\n",
    "    'Senior + Low Income': df['age_income_risk'].mean() * 100,\n",
    "    'Informal Housing + Poor Health': df['housing_health_risk'].mean() * 100,\n",
    "    'No Electricity + Low Income': df['electricity_income_risk'].mean() * 100,\n",
    "    'Multiple Chronic Conditions': df['has_multiple_conditions'].mean() * 100,\n",
    "    'Senior + Multiple Conditions': (df['is_senior'] & df['has_multiple_conditions']).mean() * 100\n",
    "}\n",
    "\n",
    "fig.add_trace(\n",
    "    go.Bar(\n",
    "        y=list(compound_risks.keys()),\n",
    "        x=list(compound_risks.values()),\n",
    "        orientation='h',\n",
    "        marker_color='rgba(231, 76, 60, 0.7)',\n",
    "        text=[f\"{v:.1f}%\" for v in compound_risks.values()],\n",
    "        textposition='auto'\n",
    "    ),\n",
    "    row=1, col=2\n",
    ")\n",
    "\n",
    "# 3. Risk intersection heatmap\n",
    "risk_factors = ['is_low_income', 'is_senior', 'has_hypertension', 'has_diabetes', 'poor_health']\n",
    "risk_names = ['Low Income', 'Senior', 'Hypertension', 'Diabetes', 'Poor Health']\n",
    "intersection_matrix = np.zeros((len(risk_factors), len(risk_factors)))\n",
    "\n",
    "for i, factor1 in enumerate(risk_factors):\n",
    "    for j, factor2 in enumerate(risk_factors):\n",
    "        if i != j:\n",
    "            intersection = (df[factor1] & df[factor2]).mean() * 100\n",
    "            intersection_matrix[i, j] = intersection\n",
    "        else:\n",
    "            intersection_matrix[i, j] = df[factor1].mean() * 100\n",
    "\n",
    "fig.add_trace(\n",
    "    go.Heatmap(\n",
    "        z=intersection_matrix,\n",
    "        x=risk_names,\n",
    "        y=risk_names,\n",
    "        colorscale='Reds',\n",
    "        text=intersection_matrix.round(1),\n",
    "        texttemplate=\"%{text}%\",\n",
    "        textfont={\"size\":10},\n",
    "        showscale=True\n",
    "    ),\n",
    "    row=2, col=1\n",
    ")\n",
    "\n",
    "# 4. Vulnerability by multiple factors\n",
    "# Create categories based on number of risk factors\n",
    "df['risk_factor_count'] = (\n",
    "    df['is_low_income'].astype(int) + \n",
    "    df['is_senior'].astype(int) + \n",
    "    df['has_hypertension'].astype(int) + \n",
    "    df['has_diabetes'].astype(int) + \n",
    "    df['poor_health'].astype(int) +\n",
    "    (~df['formal_housing']).astype(int) +\n",
    "    (~df['has_electricity']).astype(int)\n",
    ")\n",
    "\n",
    "risk_categories = ['0-1 factors', '2-3 factors', '4-5 factors', '6+ factors']\n",
    "for i, category in enumerate(risk_categories):\n",
    "    if i == 0:\n",
    "        mask = df['risk_factor_count'] <= 1\n",
    "    elif i == 1:\n",
    "        mask = (df['risk_factor_count'] >= 2) & (df['risk_factor_count'] <= 3)\n",
    "    elif i == 2:\n",
    "        mask = (df['risk_factor_count'] >= 4) & (df['risk_factor_count'] <= 5)\n",
    "    else:\n",
    "        mask = df['risk_factor_count'] >= 6\n",
    "    \n",
    "    if mask.sum() > 0:\n",
    "        fig.add_trace(\n",
    "            go.Box(\n",
    "                y=df[mask]['susceptibility_score'],\n",
    "                name=category,\n",
    "                marker_color=px.colors.sequential.Reds[i+2],\n",
    "                showlegend=False\n",
    "            ),\n",
    "            row=2, col=2\n",
    "        )\n",
    "\n",
    "fig.update_layout(\n",
    "    height=900,\n",
    "    title_text=\"⚡ COMPOUND RISK INTERSECTION ANALYSIS\",\n",
    "    title_x=0.5,\n",
    "    title_font_size=20,\n",
    "    showlegend=False\n",
    ")\n",
    "\n",
    "fig.update_xaxes(title_text=\"Number of Chronic Conditions\", row=1, col=1)\n",
    "fig.update_yaxes(title_text=\"Mean Susceptibility Score\", row=1, col=1)\n",
    "fig.update_xaxes(title_text=\"Prevalence (%)\", row=1, col=2)\n",
    "fig.update_yaxes(title_text=\"Susceptibility Score\", row=2, col=2)\n",
    "\n",
    "fig.show()\n",
    "\n",
    "print(\"⚡ COMPOUND RISK ANALYSIS SUMMARY\")\n",
    "print(\"=\" * 40)\n",
    "print(f\"📊 Chronic Conditions Impact:\")\n",
    "for _, row in chronic_impact.iterrows():\n",
    "    conditions = int(row['chronic_conditions_count'])\n",
    "    score = row['mean']\n",
    "    count = int(row['count'])\n",
    "    print(f\"  {conditions} condition(s): {score:.1f} avg score ({count} households)\")\n",
    "\n",
    "print(f\"\\n🔥 Highest Risk Intersections:\")\n",
    "for risk, pct in sorted(compound_risks.items(), key=lambda x: x[1], reverse=True)[:3]:\n",
    "    if pct > 0:\n",
    "        print(f\"  • {risk}: {pct:.1f}% of households\")\n",
    "\n",
    "# Calculate extreme vulnerability\n",
    "extreme_vuln = df[df['risk_factor_count'] >= 4]['susceptibility_score'].mean()\n",
    "extreme_count = (df['risk_factor_count'] >= 4).sum()\n",
    "print(f\"\\n🚨 EXTREME VULNERABILITY (4+ risk factors):\")\n",
    "print(f\"   {extreme_count} households ({extreme_count/len(df)*100:.1f}%) with {extreme_vuln:.1f} avg susceptibility\")"
   ]
  },
  {
   "cell_type": "markdown",
   "metadata": {},
   "source": [
    "# 🎯 INTERVENTION PRIORITY DASHBOARD"
   ]
  },
  {
   "cell_type": "code",
   "execution_count": 8,
   "metadata": {},
   "outputs": [
    {
     "data": {
      "application/vnd.plotly.v1+json": {
       "config": {
        "plotlyServerURL": "https://plot.ly"
       },
       "data": [
        {
         "domain": {
          "x": [
           0,
           0.45
          ],
          "y": [
           0.625,
           1
          ]
         },
         "hole": 0.4,
         "labels": [
          "Low",
          "Moderate",
          "Critical",
          "High"
         ],
         "marker": {
          "colors": [
           "#2ECC71",
           "#F39C12",
           "#8E44AD",
           "#E74C3C"
          ]
         },
         "textfont": {
          "size": 12
         },
         "textinfo": "label+percent+value",
         "type": "pie",
         "values": [
          73,
          37,
          12,
          1
         ]
        },
        {
         "marker": {
          "color": "#8E44AD"
         },
         "name": "Critical",
         "type": "bar",
         "x": [
          "Johannesburg_A",
          "Johannesburg_B",
          "Johannesburg_C",
          "Johannesburg_D",
          "Johannesburg_E",
          "Johannesburg_F",
          "Johannesburg_G"
         ],
         "xaxis": "x",
         "y": [
          0,
          13.333333333333334,
          8.333333333333332,
          22.58064516129032,
          0,
          10,
          0
         ],
         "yaxis": "y"
        },
        {
         "marker": {
          "color": "#E74C3C"
         },
         "name": "High",
         "type": "bar",
         "x": [
          "Johannesburg_A",
          "Johannesburg_B",
          "Johannesburg_C",
          "Johannesburg_D",
          "Johannesburg_E",
          "Johannesburg_F",
          "Johannesburg_G"
         ],
         "xaxis": "x",
         "y": [
          0,
          0,
          0,
          0,
          5.88235294117647,
          0,
          0
         ],
         "yaxis": "y"
        },
        {
         "marker": {
          "color": "#F39C12"
         },
         "name": "Moderate",
         "type": "bar",
         "x": [
          "Johannesburg_A",
          "Johannesburg_B",
          "Johannesburg_C",
          "Johannesburg_D",
          "Johannesburg_E",
          "Johannesburg_F",
          "Johannesburg_G"
         ],
         "xaxis": "x",
         "y": [
          0,
          6.666666666666667,
          33.33333333333333,
          45.16129032258064,
          29.411764705882355,
          35,
          60
         ],
         "yaxis": "y"
        },
        {
         "marker": {
          "color": 9,
          "colorscale": [
           [
            0,
            "#440154"
           ],
           [
            0.1111111111111111,
            "#482878"
           ],
           [
            0.2222222222222222,
            "#3e4989"
           ],
           [
            0.3333333333333333,
            "#31688e"
           ],
           [
            0.4444444444444444,
            "#26828e"
           ],
           [
            0.5555555555555556,
            "#1f9e89"
           ],
           [
            0.6666666666666666,
            "#35b779"
           ],
           [
            0.7777777777777778,
            "#6ece58"
           ],
           [
            0.8888888888888888,
            "#b5de2b"
           ],
           [
            1,
            "#fde725"
           ]
          ],
          "showscale": false,
          "size": 27
         },
         "mode": "markers+text",
         "showlegend": false,
         "text": "Cooling Centers",
         "textposition": "middle right",
         "type": "scatter",
         "x": [
          2
         ],
         "xaxis": "x2",
         "y": [
          8
         ],
         "yaxis": "y2"
        },
        {
         "marker": {
          "color": 6,
          "colorscale": [
           [
            0,
            "#440154"
           ],
           [
            0.1111111111111111,
            "#482878"
           ],
           [
            0.2222222222222222,
            "#3e4989"
           ],
           [
            0.3333333333333333,
            "#31688e"
           ],
           [
            0.4444444444444444,
            "#26828e"
           ],
           [
            0.5555555555555556,
            "#1f9e89"
           ],
           [
            0.6666666666666666,
            "#35b779"
           ],
           [
            0.7777777777777778,
            "#6ece58"
           ],
           [
            0.8888888888888888,
            "#b5de2b"
           ],
           [
            1,
            "#fde725"
           ]
          ],
          "showscale": false,
          "size": 18
         },
         "mode": "markers+text",
         "showlegend": false,
         "text": "Economic Support",
         "textposition": "middle right",
         "type": "scatter",
         "x": [
          8
         ],
         "xaxis": "x2",
         "y": [
          9
         ],
         "yaxis": "y2"
        },
        {
         "marker": {
          "color": 8,
          "colorscale": [
           [
            0,
            "#440154"
           ],
           [
            0.1111111111111111,
            "#482878"
           ],
           [
            0.2222222222222222,
            "#3e4989"
           ],
           [
            0.3333333333333333,
            "#31688e"
           ],
           [
            0.4444444444444444,
            "#26828e"
           ],
           [
            0.5555555555555556,
            "#1f9e89"
           ],
           [
            0.6666666666666666,
            "#35b779"
           ],
           [
            0.7777777777777778,
            "#6ece58"
           ],
           [
            0.8888888888888888,
            "#b5de2b"
           ],
           [
            1,
            "#fde725"
           ]
          ],
          "showscale": false,
          "size": 24
         },
         "mode": "markers+text",
         "showlegend": false,
         "text": "Health System Prep",
         "textposition": "middle right",
         "type": "scatter",
         "x": [
          6
         ],
         "xaxis": "x2",
         "y": [
          7
         ],
         "yaxis": "y2"
        },
        {
         "marker": {
          "color": 4,
          "colorscale": [
           [
            0,
            "#440154"
           ],
           [
            0.1111111111111111,
            "#482878"
           ],
           [
            0.2222222222222222,
            "#3e4989"
           ],
           [
            0.3333333333333333,
            "#31688e"
           ],
           [
            0.4444444444444444,
            "#26828e"
           ],
           [
            0.5555555555555556,
            "#1f9e89"
           ],
           [
            0.6666666666666666,
            "#35b779"
           ],
           [
            0.7777777777777778,
            "#6ece58"
           ],
           [
            0.8888888888888888,
            "#b5de2b"
           ],
           [
            1,
            "#fde725"
           ]
          ],
          "showscale": false,
          "size": 12
         },
         "mode": "markers+text",
         "showlegend": false,
         "text": "Housing Upgrades",
         "textposition": "middle right",
         "type": "scatter",
         "x": [
          9
         ],
         "xaxis": "x2",
         "y": [
          9
         ],
         "yaxis": "y2"
        },
        {
         "marker": {
          "color": 7,
          "colorscale": [
           [
            0,
            "#440154"
           ],
           [
            0.1111111111111111,
            "#482878"
           ],
           [
            0.2222222222222222,
            "#3e4989"
           ],
           [
            0.3333333333333333,
            "#31688e"
           ],
           [
            0.4444444444444444,
            "#26828e"
           ],
           [
            0.5555555555555556,
            "#1f9e89"
           ],
           [
            0.6666666666666666,
            "#35b779"
           ],
           [
            0.7777777777777778,
            "#6ece58"
           ],
           [
            0.8888888888888888,
            "#b5de2b"
           ],
           [
            1,
            "#fde725"
           ]
          ],
          "showscale": false,
          "size": 21
         },
         "mode": "markers+text",
         "showlegend": false,
         "text": "Electricity Access",
         "textposition": "middle right",
         "type": "scatter",
         "x": [
          7
         ],
         "xaxis": "x2",
         "y": [
          6
         ],
         "yaxis": "y2"
        },
        {
         "marker": {
          "color": 9,
          "colorscale": [
           [
            0,
            "#440154"
           ],
           [
            0.1111111111111111,
            "#482878"
           ],
           [
            0.2222222222222222,
            "#3e4989"
           ],
           [
            0.3333333333333333,
            "#31688e"
           ],
           [
            0.4444444444444444,
            "#26828e"
           ],
           [
            0.5555555555555556,
            "#1f9e89"
           ],
           [
            0.6666666666666666,
            "#35b779"
           ],
           [
            0.7777777777777778,
            "#6ece58"
           ],
           [
            0.8888888888888888,
            "#b5de2b"
           ],
           [
            1,
            "#fde725"
           ]
          ],
          "showscale": false,
          "size": 27
         },
         "mode": "markers+text",
         "showlegend": false,
         "text": "Community Programs",
         "textposition": "middle right",
         "type": "scatter",
         "x": [
          3
         ],
         "xaxis": "x2",
         "y": [
          6
         ],
         "yaxis": "y2"
        },
        {
         "marker": {
          "color": "rgba(46, 204, 113, 0.8)"
         },
         "orientation": "h",
         "text": [
          "36.0",
          "18.0",
          "9.3",
          "6.8",
          "6.0",
          "4.0"
         ],
         "textposition": "auto",
         "type": "bar",
         "x": [
          36,
          18,
          9.333333333333334,
          6.75,
          6,
          4
         ],
         "xaxis": "x3",
         "y": [
          "Cooling Centers",
          "Community Programs",
          "Health System Prep",
          "Economic Support",
          "Electricity Access",
          "Housing Upgrades"
         ],
         "yaxis": "y3"
        }
       ],
       "layout": {
        "annotations": [
         {
          "font": {
           "size": 16
          },
          "showarrow": false,
          "text": "🎯 Intervention Priority Distribution",
          "x": 0.225,
          "xanchor": "center",
          "xref": "paper",
          "y": 1,
          "yanchor": "bottom",
          "yref": "paper"
         },
         {
          "font": {
           "size": 16
          },
          "showarrow": false,
          "text": "🗺️ Priority Populations by Region",
          "x": 0.775,
          "xanchor": "center",
          "xref": "paper",
          "y": 1,
          "yanchor": "bottom",
          "yref": "paper"
         },
         {
          "font": {
           "size": 16
          },
          "showarrow": false,
          "text": "💡 Intervention Impact Potential",
          "x": 0.225,
          "xanchor": "center",
          "xref": "paper",
          "y": 0.375,
          "yanchor": "bottom",
          "yref": "paper"
         },
         {
          "font": {
           "size": 16
          },
          "showarrow": false,
          "text": "📈 Cost-Effectiveness Analysis",
          "x": 0.775,
          "xanchor": "center",
          "xref": "paper",
          "y": 0.375,
          "yanchor": "bottom",
          "yref": "paper"
         }
        ],
        "height": 900,
        "showlegend": true,
        "template": {
         "data": {
          "bar": [
           {
            "error_x": {
             "color": "#2a3f5f"
            },
            "error_y": {
             "color": "#2a3f5f"
            },
            "marker": {
             "line": {
              "color": "white",
              "width": 0.5
             },
             "pattern": {
              "fillmode": "overlay",
              "size": 10,
              "solidity": 0.2
             }
            },
            "type": "bar"
           }
          ],
          "barpolar": [
           {
            "marker": {
             "line": {
              "color": "white",
              "width": 0.5
             },
             "pattern": {
              "fillmode": "overlay",
              "size": 10,
              "solidity": 0.2
             }
            },
            "type": "barpolar"
           }
          ],
          "carpet": [
           {
            "aaxis": {
             "endlinecolor": "#2a3f5f",
             "gridcolor": "#C8D4E3",
             "linecolor": "#C8D4E3",
             "minorgridcolor": "#C8D4E3",
             "startlinecolor": "#2a3f5f"
            },
            "baxis": {
             "endlinecolor": "#2a3f5f",
             "gridcolor": "#C8D4E3",
             "linecolor": "#C8D4E3",
             "minorgridcolor": "#C8D4E3",
             "startlinecolor": "#2a3f5f"
            },
            "type": "carpet"
           }
          ],
          "choropleth": [
           {
            "colorbar": {
             "outlinewidth": 0,
             "ticks": ""
            },
            "type": "choropleth"
           }
          ],
          "contour": [
           {
            "colorbar": {
             "outlinewidth": 0,
             "ticks": ""
            },
            "colorscale": [
             [
              0,
              "#0d0887"
             ],
             [
              0.1111111111111111,
              "#46039f"
             ],
             [
              0.2222222222222222,
              "#7201a8"
             ],
             [
              0.3333333333333333,
              "#9c179e"
             ],
             [
              0.4444444444444444,
              "#bd3786"
             ],
             [
              0.5555555555555556,
              "#d8576b"
             ],
             [
              0.6666666666666666,
              "#ed7953"
             ],
             [
              0.7777777777777778,
              "#fb9f3a"
             ],
             [
              0.8888888888888888,
              "#fdca26"
             ],
             [
              1,
              "#f0f921"
             ]
            ],
            "type": "contour"
           }
          ],
          "contourcarpet": [
           {
            "colorbar": {
             "outlinewidth": 0,
             "ticks": ""
            },
            "type": "contourcarpet"
           }
          ],
          "heatmap": [
           {
            "colorbar": {
             "outlinewidth": 0,
             "ticks": ""
            },
            "colorscale": [
             [
              0,
              "#0d0887"
             ],
             [
              0.1111111111111111,
              "#46039f"
             ],
             [
              0.2222222222222222,
              "#7201a8"
             ],
             [
              0.3333333333333333,
              "#9c179e"
             ],
             [
              0.4444444444444444,
              "#bd3786"
             ],
             [
              0.5555555555555556,
              "#d8576b"
             ],
             [
              0.6666666666666666,
              "#ed7953"
             ],
             [
              0.7777777777777778,
              "#fb9f3a"
             ],
             [
              0.8888888888888888,
              "#fdca26"
             ],
             [
              1,
              "#f0f921"
             ]
            ],
            "type": "heatmap"
           }
          ],
          "heatmapgl": [
           {
            "colorbar": {
             "outlinewidth": 0,
             "ticks": ""
            },
            "colorscale": [
             [
              0,
              "#0d0887"
             ],
             [
              0.1111111111111111,
              "#46039f"
             ],
             [
              0.2222222222222222,
              "#7201a8"
             ],
             [
              0.3333333333333333,
              "#9c179e"
             ],
             [
              0.4444444444444444,
              "#bd3786"
             ],
             [
              0.5555555555555556,
              "#d8576b"
             ],
             [
              0.6666666666666666,
              "#ed7953"
             ],
             [
              0.7777777777777778,
              "#fb9f3a"
             ],
             [
              0.8888888888888888,
              "#fdca26"
             ],
             [
              1,
              "#f0f921"
             ]
            ],
            "type": "heatmapgl"
           }
          ],
          "histogram": [
           {
            "marker": {
             "pattern": {
              "fillmode": "overlay",
              "size": 10,
              "solidity": 0.2
             }
            },
            "type": "histogram"
           }
          ],
          "histogram2d": [
           {
            "colorbar": {
             "outlinewidth": 0,
             "ticks": ""
            },
            "colorscale": [
             [
              0,
              "#0d0887"
             ],
             [
              0.1111111111111111,
              "#46039f"
             ],
             [
              0.2222222222222222,
              "#7201a8"
             ],
             [
              0.3333333333333333,
              "#9c179e"
             ],
             [
              0.4444444444444444,
              "#bd3786"
             ],
             [
              0.5555555555555556,
              "#d8576b"
             ],
             [
              0.6666666666666666,
              "#ed7953"
             ],
             [
              0.7777777777777778,
              "#fb9f3a"
             ],
             [
              0.8888888888888888,
              "#fdca26"
             ],
             [
              1,
              "#f0f921"
             ]
            ],
            "type": "histogram2d"
           }
          ],
          "histogram2dcontour": [
           {
            "colorbar": {
             "outlinewidth": 0,
             "ticks": ""
            },
            "colorscale": [
             [
              0,
              "#0d0887"
             ],
             [
              0.1111111111111111,
              "#46039f"
             ],
             [
              0.2222222222222222,
              "#7201a8"
             ],
             [
              0.3333333333333333,
              "#9c179e"
             ],
             [
              0.4444444444444444,
              "#bd3786"
             ],
             [
              0.5555555555555556,
              "#d8576b"
             ],
             [
              0.6666666666666666,
              "#ed7953"
             ],
             [
              0.7777777777777778,
              "#fb9f3a"
             ],
             [
              0.8888888888888888,
              "#fdca26"
             ],
             [
              1,
              "#f0f921"
             ]
            ],
            "type": "histogram2dcontour"
           }
          ],
          "mesh3d": [
           {
            "colorbar": {
             "outlinewidth": 0,
             "ticks": ""
            },
            "type": "mesh3d"
           }
          ],
          "parcoords": [
           {
            "line": {
             "colorbar": {
              "outlinewidth": 0,
              "ticks": ""
             }
            },
            "type": "parcoords"
           }
          ],
          "pie": [
           {
            "automargin": true,
            "type": "pie"
           }
          ],
          "scatter": [
           {
            "fillpattern": {
             "fillmode": "overlay",
             "size": 10,
             "solidity": 0.2
            },
            "type": "scatter"
           }
          ],
          "scatter3d": [
           {
            "line": {
             "colorbar": {
              "outlinewidth": 0,
              "ticks": ""
             }
            },
            "marker": {
             "colorbar": {
              "outlinewidth": 0,
              "ticks": ""
             }
            },
            "type": "scatter3d"
           }
          ],
          "scattercarpet": [
           {
            "marker": {
             "colorbar": {
              "outlinewidth": 0,
              "ticks": ""
             }
            },
            "type": "scattercarpet"
           }
          ],
          "scattergeo": [
           {
            "marker": {
             "colorbar": {
              "outlinewidth": 0,
              "ticks": ""
             }
            },
            "type": "scattergeo"
           }
          ],
          "scattergl": [
           {
            "marker": {
             "colorbar": {
              "outlinewidth": 0,
              "ticks": ""
             }
            },
            "type": "scattergl"
           }
          ],
          "scattermapbox": [
           {
            "marker": {
             "colorbar": {
              "outlinewidth": 0,
              "ticks": ""
             }
            },
            "type": "scattermapbox"
           }
          ],
          "scatterpolar": [
           {
            "marker": {
             "colorbar": {
              "outlinewidth": 0,
              "ticks": ""
             }
            },
            "type": "scatterpolar"
           }
          ],
          "scatterpolargl": [
           {
            "marker": {
             "colorbar": {
              "outlinewidth": 0,
              "ticks": ""
             }
            },
            "type": "scatterpolargl"
           }
          ],
          "scatterternary": [
           {
            "marker": {
             "colorbar": {
              "outlinewidth": 0,
              "ticks": ""
             }
            },
            "type": "scatterternary"
           }
          ],
          "surface": [
           {
            "colorbar": {
             "outlinewidth": 0,
             "ticks": ""
            },
            "colorscale": [
             [
              0,
              "#0d0887"
             ],
             [
              0.1111111111111111,
              "#46039f"
             ],
             [
              0.2222222222222222,
              "#7201a8"
             ],
             [
              0.3333333333333333,
              "#9c179e"
             ],
             [
              0.4444444444444444,
              "#bd3786"
             ],
             [
              0.5555555555555556,
              "#d8576b"
             ],
             [
              0.6666666666666666,
              "#ed7953"
             ],
             [
              0.7777777777777778,
              "#fb9f3a"
             ],
             [
              0.8888888888888888,
              "#fdca26"
             ],
             [
              1,
              "#f0f921"
             ]
            ],
            "type": "surface"
           }
          ],
          "table": [
           {
            "cells": {
             "fill": {
              "color": "#EBF0F8"
             },
             "line": {
              "color": "white"
             }
            },
            "header": {
             "fill": {
              "color": "#C8D4E3"
             },
             "line": {
              "color": "white"
             }
            },
            "type": "table"
           }
          ]
         },
         "layout": {
          "annotationdefaults": {
           "arrowcolor": "#2a3f5f",
           "arrowhead": 0,
           "arrowwidth": 1
          },
          "autotypenumbers": "strict",
          "coloraxis": {
           "colorbar": {
            "outlinewidth": 0,
            "ticks": ""
           }
          },
          "colorscale": {
           "diverging": [
            [
             0,
             "#8e0152"
            ],
            [
             0.1,
             "#c51b7d"
            ],
            [
             0.2,
             "#de77ae"
            ],
            [
             0.3,
             "#f1b6da"
            ],
            [
             0.4,
             "#fde0ef"
            ],
            [
             0.5,
             "#f7f7f7"
            ],
            [
             0.6,
             "#e6f5d0"
            ],
            [
             0.7,
             "#b8e186"
            ],
            [
             0.8,
             "#7fbc41"
            ],
            [
             0.9,
             "#4d9221"
            ],
            [
             1,
             "#276419"
            ]
           ],
           "sequential": [
            [
             0,
             "#0d0887"
            ],
            [
             0.1111111111111111,
             "#46039f"
            ],
            [
             0.2222222222222222,
             "#7201a8"
            ],
            [
             0.3333333333333333,
             "#9c179e"
            ],
            [
             0.4444444444444444,
             "#bd3786"
            ],
            [
             0.5555555555555556,
             "#d8576b"
            ],
            [
             0.6666666666666666,
             "#ed7953"
            ],
            [
             0.7777777777777778,
             "#fb9f3a"
            ],
            [
             0.8888888888888888,
             "#fdca26"
            ],
            [
             1,
             "#f0f921"
            ]
           ],
           "sequentialminus": [
            [
             0,
             "#0d0887"
            ],
            [
             0.1111111111111111,
             "#46039f"
            ],
            [
             0.2222222222222222,
             "#7201a8"
            ],
            [
             0.3333333333333333,
             "#9c179e"
            ],
            [
             0.4444444444444444,
             "#bd3786"
            ],
            [
             0.5555555555555556,
             "#d8576b"
            ],
            [
             0.6666666666666666,
             "#ed7953"
            ],
            [
             0.7777777777777778,
             "#fb9f3a"
            ],
            [
             0.8888888888888888,
             "#fdca26"
            ],
            [
             1,
             "#f0f921"
            ]
           ]
          },
          "colorway": [
           "#636efa",
           "#EF553B",
           "#00cc96",
           "#ab63fa",
           "#FFA15A",
           "#19d3f3",
           "#FF6692",
           "#B6E880",
           "#FF97FF",
           "#FECB52"
          ],
          "font": {
           "color": "#2a3f5f"
          },
          "geo": {
           "bgcolor": "white",
           "lakecolor": "white",
           "landcolor": "white",
           "showlakes": true,
           "showland": true,
           "subunitcolor": "#C8D4E3"
          },
          "hoverlabel": {
           "align": "left"
          },
          "hovermode": "closest",
          "mapbox": {
           "style": "light"
          },
          "paper_bgcolor": "white",
          "plot_bgcolor": "white",
          "polar": {
           "angularaxis": {
            "gridcolor": "#EBF0F8",
            "linecolor": "#EBF0F8",
            "ticks": ""
           },
           "bgcolor": "white",
           "radialaxis": {
            "gridcolor": "#EBF0F8",
            "linecolor": "#EBF0F8",
            "ticks": ""
           }
          },
          "scene": {
           "xaxis": {
            "backgroundcolor": "white",
            "gridcolor": "#DFE8F3",
            "gridwidth": 2,
            "linecolor": "#EBF0F8",
            "showbackground": true,
            "ticks": "",
            "zerolinecolor": "#EBF0F8"
           },
           "yaxis": {
            "backgroundcolor": "white",
            "gridcolor": "#DFE8F3",
            "gridwidth": 2,
            "linecolor": "#EBF0F8",
            "showbackground": true,
            "ticks": "",
            "zerolinecolor": "#EBF0F8"
           },
           "zaxis": {
            "backgroundcolor": "white",
            "gridcolor": "#DFE8F3",
            "gridwidth": 2,
            "linecolor": "#EBF0F8",
            "showbackground": true,
            "ticks": "",
            "zerolinecolor": "#EBF0F8"
           }
          },
          "shapedefaults": {
           "line": {
            "color": "#2a3f5f"
           }
          },
          "ternary": {
           "aaxis": {
            "gridcolor": "#DFE8F3",
            "linecolor": "#A2B1C6",
            "ticks": ""
           },
           "baxis": {
            "gridcolor": "#DFE8F3",
            "linecolor": "#A2B1C6",
            "ticks": ""
           },
           "bgcolor": "white",
           "caxis": {
            "gridcolor": "#DFE8F3",
            "linecolor": "#A2B1C6",
            "ticks": ""
           }
          },
          "title": {
           "x": 0.05
          },
          "xaxis": {
           "automargin": true,
           "gridcolor": "#EBF0F8",
           "linecolor": "#EBF0F8",
           "ticks": "",
           "title": {
            "standoff": 15
           },
           "zerolinecolor": "#EBF0F8",
           "zerolinewidth": 2
          },
          "yaxis": {
           "automargin": true,
           "gridcolor": "#EBF0F8",
           "linecolor": "#EBF0F8",
           "ticks": "",
           "title": {
            "standoff": 15
           },
           "zerolinecolor": "#EBF0F8",
           "zerolinewidth": 2
          }
         }
        },
        "title": {
         "font": {
          "size": 20
         },
         "text": "🎯 INTERVENTION PRIORITY & STRATEGY DASHBOARD",
         "x": 0.5
        },
        "xaxis": {
         "anchor": "y",
         "domain": [
          0.55,
          1
         ]
        },
        "xaxis2": {
         "anchor": "y2",
         "domain": [
          0,
          0.45
         ],
         "title": {
          "text": "Implementation Cost (1-10)"
         }
        },
        "xaxis3": {
         "anchor": "y3",
         "domain": [
          0.55,
          1
         ],
         "title": {
          "text": "Cost-Effectiveness Score"
         }
        },
        "yaxis": {
         "anchor": "x",
         "domain": [
          0.625,
          1
         ],
         "title": {
          "text": "Percentage of Households"
         }
        },
        "yaxis2": {
         "anchor": "x2",
         "domain": [
          0,
          0.375
         ],
         "title": {
          "text": "Potential Impact (1-10)"
         }
        },
        "yaxis3": {
         "anchor": "x3",
         "domain": [
          0,
          0.375
         ]
        }
       }
      }
     },
     "metadata": {},
     "output_type": "display_data"
    },
    {
     "name": "stdout",
     "output_type": "stream",
     "text": [
      "🎯 INTERVENTION PRIORITY SUMMARY\n",
      "========================================\n",
      "Low       :  73 households ( 59.3%)\n",
      "Moderate  :  37 households ( 30.1%)\n",
      "Critical  :  12 households (  9.8%)\n",
      "High      :   1 households (  0.8%)\n",
      "\n",
      "🏆 TOP INTERVENTION STRATEGIES:\n",
      "1. Cooling Centers: 36.0 cost-effectiveness score\n",
      "2. Community Programs: 18.0 cost-effectiveness score\n",
      "3. Health System Prep: 9.3 cost-effectiveness score\n",
      "\n",
      "🚨 IMMEDIATE ACTION NEEDED:\n",
      "   13 households require immediate intervention\n",
      "   41 households total at moderate-to-critical risk\n"
     ]
    }
   ],
   "source": [
    "# Create intervention priority analysis\n",
    "# Identify high-priority populations\n",
    "df['intervention_priority'] = 'Low'\n",
    "df.loc[df['susceptibility_score'] >= 10, 'intervention_priority'] = 'Moderate'\n",
    "df.loc[df['susceptibility_score'] >= 15, 'intervention_priority'] = 'High'\n",
    "df.loc[(df['is_senior'] & df['is_low_income']), 'intervention_priority'] = 'Critical'\n",
    "df.loc[(df['has_multiple_conditions'] & df['is_low_income']), 'intervention_priority'] = 'Critical'\n",
    "\n",
    "# Calculate intervention targets\n",
    "priority_dist = df['intervention_priority'].value_counts()\n",
    "priority_by_region = pd.crosstab(df['planning_region'], df['intervention_priority'], normalize='index') * 100\n",
    "\n",
    "# Create comprehensive intervention dashboard\n",
    "fig = make_subplots(\n",
    "    rows=2, cols=2,\n",
    "    subplot_titles=(\n",
    "        '🎯 Intervention Priority Distribution',\n",
    "        '🗺️ Priority Populations by Region',\n",
    "        '💡 Intervention Impact Potential',\n",
    "        '📈 Cost-Effectiveness Analysis'\n",
    "    ),\n",
    "    specs=[[{\"type\": \"pie\"}, {\"type\": \"bar\"}],\n",
    "           [{\"type\": \"scatter\"}, {\"type\": \"bar\"}]]\n",
    ")\n",
    "\n",
    "# 1. Priority distribution\n",
    "priority_colors = {'Low': '#2ECC71', 'Moderate': '#F39C12', 'High': '#E74C3C', 'Critical': '#8E44AD'}\n",
    "colors = [priority_colors[p] for p in priority_dist.index]\n",
    "\n",
    "fig.add_trace(\n",
    "    go.Pie(\n",
    "        labels=priority_dist.index,\n",
    "        values=priority_dist.values,\n",
    "        hole=0.4,\n",
    "        marker_colors=colors,\n",
    "        textinfo='label+percent+value',\n",
    "        textfont_size=12\n",
    "    ),\n",
    "    row=1, col=1\n",
    ")\n",
    "\n",
    "# 2. Priority by region\n",
    "priorities = ['Critical', 'High', 'Moderate']\n",
    "for priority in priorities:\n",
    "    if priority in priority_by_region.columns:\n",
    "        fig.add_trace(\n",
    "            go.Bar(\n",
    "                x=priority_by_region.index,\n",
    "                y=priority_by_region[priority],\n",
    "                name=priority,\n",
    "                marker_color=priority_colors[priority]\n",
    "            ),\n",
    "            row=1, col=2\n",
    "        )\n",
    "\n",
    "# 3. Intervention impact potential (cost vs. benefit)\n",
    "# Simulate intervention impact data\n",
    "interventions = {\n",
    "    'Cooling Centers': {'cost': 2, 'impact': 8, 'feasibility': 9},\n",
    "    'Economic Support': {'cost': 8, 'impact': 9, 'feasibility': 6},\n",
    "    'Health System Prep': {'cost': 6, 'impact': 7, 'feasibility': 8},\n",
    "    'Housing Upgrades': {'cost': 9, 'impact': 9, 'feasibility': 4},\n",
    "    'Electricity Access': {'cost': 7, 'impact': 6, 'feasibility': 7},\n",
    "    'Community Programs': {'cost': 3, 'impact': 6, 'feasibility': 9}\n",
    "}\n",
    "\n",
    "for intervention, metrics in interventions.items():\n",
    "    fig.add_trace(\n",
    "        go.Scatter(\n",
    "            x=[metrics['cost']],\n",
    "            y=[metrics['impact']],\n",
    "            mode='markers+text',\n",
    "            marker=dict(\n",
    "                size=metrics['feasibility']*3,\n",
    "                color=metrics['feasibility'],\n",
    "                colorscale='Viridis',\n",
    "                showscale=False\n",
    "            ),\n",
    "            text=intervention,\n",
    "            textposition='middle right',\n",
    "            showlegend=False\n",
    "        ),\n",
    "        row=2, col=1\n",
    "    )\n",
    "\n",
    "# 4. Cost-effectiveness ranking\n",
    "cost_effectiveness = {k: (v['impact'] * v['feasibility']) / v['cost'] for k, v in interventions.items()}\n",
    "sorted_interventions = sorted(cost_effectiveness.items(), key=lambda x: x[1], reverse=True)\n",
    "\n",
    "fig.add_trace(\n",
    "    go.Bar(\n",
    "        y=[item[0] for item in sorted_interventions],\n",
    "        x=[item[1] for item in sorted_interventions],\n",
    "        orientation='h',\n",
    "        marker_color='rgba(46, 204, 113, 0.8)',\n",
    "        text=[f\"{item[1]:.1f}\" for item in sorted_interventions],\n",
    "        textposition='auto'\n",
    "    ),\n",
    "    row=2, col=2\n",
    ")\n",
    "\n",
    "fig.update_layout(\n",
    "    height=900,\n",
    "    title_text=\"🎯 INTERVENTION PRIORITY & STRATEGY DASHBOARD\",\n",
    "    title_x=0.5,\n",
    "    title_font_size=20,\n",
    "    showlegend=True\n",
    ")\n",
    "\n",
    "fig.update_yaxes(title_text=\"Percentage of Households\", row=1, col=2)\n",
    "fig.update_xaxes(title_text=\"Implementation Cost (1-10)\", row=2, col=1)\n",
    "fig.update_yaxes(title_text=\"Potential Impact (1-10)\", row=2, col=1)\n",
    "fig.update_xaxes(title_text=\"Cost-Effectiveness Score\", row=2, col=2)\n",
    "\n",
    "fig.show()\n",
    "\n",
    "print(\"🎯 INTERVENTION PRIORITY SUMMARY\")\n",
    "print(\"=\" * 40)\n",
    "for priority, count in priority_dist.items():\n",
    "    pct = count / len(df) * 100\n",
    "    print(f\"{priority:<10}: {count:>3} households ({pct:>5.1f}%)\")\n",
    "    \n",
    "print(f\"\\n🏆 TOP INTERVENTION STRATEGIES:\")\n",
    "for i, (intervention, score) in enumerate(sorted_interventions[:3], 1):\n",
    "    print(f\"{i}. {intervention}: {score:.1f} cost-effectiveness score\")\n",
    "    \n",
    "# Calculate targeted intervention potential\n",
    "critical_high = (df['intervention_priority'].isin(['Critical', 'High'])).sum()\n",
    "total_at_risk = (df['susceptibility_score'] >= 10).sum()\n",
    "print(f\"\\n🚨 IMMEDIATE ACTION NEEDED:\")\n",
    "print(f\"   {critical_high} households require immediate intervention\")\n",
    "print(f\"   {total_at_risk} households total at moderate-to-critical risk\")"
   ]
  },
  {
   "cell_type": "markdown",
   "metadata": {},
   "source": [
    "# 📊 KEY INSIGHTS & STATISTICAL SUMMARY"
   ]
  },
  {
   "cell_type": "code",
   "execution_count": 9,
   "metadata": {},
   "outputs": [
    {
     "name": "stdout",
     "output_type": "stream",
     "text": [
      "📊 JOHANNESBURG HEAT-HEALTH SUSCEPTIBILITY ANALYSIS\n",
      "============================================================\n",
      "🏠 DATASET OVERVIEW:\n",
      "   • Total Households Analyzed: 123\n",
      "   • Planning Regions Covered: 7\n",
      "   • Wards Represented: 60\n",
      "   • Analysis Period: Winter (mean temp 19.8°C)\n",
      "\n",
      "🎯 OVERALL VULNERABILITY PROFILE:\n",
      "   • Mean Susceptibility Score: 9.0/25\n",
      "   • Standard Deviation: 2.4\n",
      "   • Households at High Risk: 30.9%\n",
      "   • Households at Very High Risk: 0.8%\n",
      "   • Combined High + Very High Risk: 31.7%\n",
      "\n",
      "💰 SOCIOECONOMIC VULNERABILITY (Primary Driver):\n",
      "   • Low Income Households: 66.7%\n",
      "   • Mean Socioeconomic Score: 4.8/8 (61% vulnerability)\n",
      "   • Incomplete Education: 26.0%\n",
      "\n",
      "🏥 PHYSIOLOGICAL VULNERABILITY:\n",
      "   • Senior Population (65+): 8.1%\n",
      "   • Hypertension Prevalence: 28.5%\n",
      "   • Diabetes Prevalence: 20.3%\n",
      "   • Multiple Chronic Conditions: 6.5%\n",
      "   • Mean Physiological Score: 3.7/11 (34% vulnerability)\n",
      "   • Senior Hypertension Rate: 50.0%\n",
      "\n",
      "🏘️ INFRASTRUCTURE VULNERABILITY (City's Strength):\n",
      "   • Formal Housing: 87.8%\n",
      "   • Electricity Access: 89.4%\n",
      "   • Mean Infrastructure Score: 1.2/6 (20% vulnerability)\n",
      "\n",
      "🗺️ REGIONAL VULNERABILITY PATTERNS:\n",
      "   • Highest Risk Region: Johannesburg_G (10.8/25)\n",
      "   • Lowest Risk Region: Johannesburg_A (7.4/25)\n",
      "   • Regional Score Range: 3.4 points\n",
      "   • Johannesburg_D (Largest): 35.5% diabetes, 20.4°C avg temp\n",
      "\n",
      "⚡ COMPOUND RISK INTERSECTIONS:\n",
      "   • Senior + Low Income: 8 households (6.5%)\n",
      "   • No Electricity + Low Income: 8 households (6.5%)\n",
      "   • Informal Housing + Poor Health: 2 households (1.6%)\n",
      "\n",
      "📈 CHRONIC CONDITIONS IMPACT:\n",
      "   • 0 Conditions: 8.9 avg susceptibility\n",
      "   • 1 Condition: 9.2 avg susceptibility\n",
      "   • 2+ Conditions: 7.9 avg susceptibility\n",
      "   • Risk Multiplier: 0.9x higher for multiple conditions\n",
      "\n",
      "🎯 INTERVENTION PRIORITIES:\n",
      "   • Critical Priority: 12 households (9.8%)\n",
      "   • High Priority: 1 households (0.8%)\n",
      "   • Immediate Action Needed: 13 households (10.6%)\n",
      "\n",
      "🔑 KEY STRATEGIC INSIGHTS:\n",
      "   1. ECONOMIC VULNERABILITY DOMINATES: 66.7% low income is primary driver\n",
      "   2. INFRASTRUCTURE IS STRENGTH: 89.4% electricity, 87.8% formal housing\n",
      "   3. HEALTH SYSTEM CRITICAL: 42.3% have heat-sensitive conditions\n",
      "   4. COMPOUND RISKS MATTER: Multiple vulnerabilities create extreme susceptibility\n",
      "   5. TARGETED APPROACH NEEDED: Focus on Johannesburg_G and vulnerable populations\n",
      "\n",
      "💡 RECOMMENDED INTERVENTION SEQUENCE:\n",
      "   1. Economic Support: Target 67% low-income households\n",
      "   2. Health System Prep: Chronic disease management for 7% with multiple conditions\n",
      "   3. Community Cooling: Establish centers in Johannesburg_G and high-risk regions\n",
      "   4. Infrastructure: Address remaining 11% without electricity\n",
      "   5. Housing: Upgrade 12% informal housing\n",
      "\n",
      "📈 STATISTICAL VALIDATION:\n",
      "   • Regional Difference Significance: p = 0.0004 (SIGNIFICANT)\n",
      "   • Chronic Conditions Impact: p = 0.2656 (not significant)\n",
      "\n",
      "🏁 ANALYSIS COMPLETE: Ready for targeted heat-health intervention planning!\n"
     ]
    }
   ],
   "source": [
    "# Generate comprehensive statistical summary\n",
    "print(\"📊 JOHANNESBURG HEAT-HEALTH SUSCEPTIBILITY ANALYSIS\")\n",
    "print(\"=\" * 60)\n",
    "print(f\"🏠 DATASET OVERVIEW:\")\n",
    "print(f\"   • Total Households Analyzed: {len(df):,}\")\n",
    "print(f\"   • Planning Regions Covered: {df['planning_region'].nunique()}\")\n",
    "print(f\"   • Wards Represented: {df['ward'].nunique()}\")\n",
    "print(f\"   • Analysis Period: Winter (mean temp {df['temperature'].mean():.1f}°C)\")\n",
    "\n",
    "print(f\"\\n🎯 OVERALL VULNERABILITY PROFILE:\")\n",
    "print(f\"   • Mean Susceptibility Score: {df['susceptibility_score'].mean():.1f}/25\")\n",
    "print(f\"   • Standard Deviation: {df['susceptibility_score'].std():.1f}\")\n",
    "print(f\"   • Households at High Risk: {((df['risk_category'] == 'High Risk').sum() / len(df) * 100):.1f}%\")\n",
    "print(f\"   • Households at Very High Risk: {((df['risk_category'] == 'Very High Risk').sum() / len(df) * 100):.1f}%\")\n",
    "print(f\"   • Combined High + Very High Risk: {((df['risk_category'].isin(['High Risk', 'Very High Risk'])).sum() / len(df) * 100):.1f}%\")\n",
    "\n",
    "print(f\"\\n💰 SOCIOECONOMIC VULNERABILITY (Primary Driver):\")\n",
    "print(f\"   • Low Income Households: {(df['is_low_income'].sum() / len(df) * 100):.1f}%\")\n",
    "print(f\"   • Mean Socioeconomic Score: {df['socioeconomic_score'].mean():.1f}/8 ({df['socioeconomic_score'].mean()/8*100:.0f}% vulnerability)\")\n",
    "print(f\"   • Incomplete Education: {(df['education_incomplete'].sum() / len(df) * 100):.1f}%\")\n",
    "\n",
    "print(f\"\\n🏥 PHYSIOLOGICAL VULNERABILITY:\")\n",
    "print(f\"   • Senior Population (65+): {(df['is_senior'].sum() / len(df) * 100):.1f}%\")\n",
    "print(f\"   • Hypertension Prevalence: {(df['has_hypertension'].sum() / len(df) * 100):.1f}%\")\n",
    "print(f\"   • Diabetes Prevalence: {(df['has_diabetes'].sum() / len(df) * 100):.1f}%\")\n",
    "print(f\"   • Multiple Chronic Conditions: {(df['has_multiple_conditions'].sum() / len(df) * 100):.1f}%\")\n",
    "print(f\"   • Mean Physiological Score: {df['physiological_score'].mean():.1f}/11 ({df['physiological_score'].mean()/11*100:.0f}% vulnerability)\")\n",
    "\n",
    "seniors_hypertension = df[df['is_senior']]['has_hypertension'].mean() * 100\n",
    "print(f\"   • Senior Hypertension Rate: {seniors_hypertension:.1f}%\")\n",
    "\n",
    "print(f\"\\n🏘️ INFRASTRUCTURE VULNERABILITY (City's Strength):\")\n",
    "print(f\"   • Formal Housing: {(df['formal_housing'].sum() / len(df) * 100):.1f}%\")\n",
    "print(f\"   • Electricity Access: {(df['has_electricity'].sum() / len(df) * 100):.1f}%\")\n",
    "print(f\"   • Mean Infrastructure Score: {df['infrastructure_score'].mean():.1f}/6 ({df['infrastructure_score'].mean()/6*100:.0f}% vulnerability)\")\n",
    "\n",
    "print(f\"\\n🗺️ REGIONAL VULNERABILITY PATTERNS:\")\n",
    "highest_risk_region = region_stats.loc[region_stats['susceptibility_score_mean'].idxmax(), 'planning_region']\n",
    "highest_risk_score = region_stats['susceptibility_score_mean'].max()\n",
    "lowest_risk_region = region_stats.loc[region_stats['susceptibility_score_mean'].idxmin(), 'planning_region']\n",
    "lowest_risk_score = region_stats['susceptibility_score_mean'].min()\n",
    "\n",
    "print(f\"   • Highest Risk Region: {highest_risk_region} ({highest_risk_score:.1f}/25)\")\n",
    "print(f\"   • Lowest Risk Region: {lowest_risk_region} ({lowest_risk_score:.1f}/25)\")\n",
    "print(f\"   • Regional Score Range: {highest_risk_score - lowest_risk_score:.1f} points\")\n",
    "\n",
    "# Special focus on Johannesburg_D (largest region)\n",
    "joburg_d_diabetes = df[df['planning_region'] == 'Johannesburg_D']['has_diabetes'].mean() * 100\n",
    "joburg_d_temp = df[df['planning_region'] == 'Johannesburg_D']['temperature'].mean()\n",
    "print(f\"   • Johannesburg_D (Largest): {joburg_d_diabetes:.1f}% diabetes, {joburg_d_temp:.1f}°C avg temp\")\n",
    "\n",
    "print(f\"\\n⚡ COMPOUND RISK INTERSECTIONS:\")\n",
    "senior_low_income = (df['is_senior'] & df['is_low_income']).sum()\n",
    "no_elec_low_income = ((~df['has_electricity']) & df['is_low_income']).sum()\n",
    "informal_poor_health = ((~df['formal_housing']) & df['poor_health']).sum()\n",
    "\n",
    "print(f\"   • Senior + Low Income: {senior_low_income} households ({senior_low_income/len(df)*100:.1f}%)\")\n",
    "print(f\"   • No Electricity + Low Income: {no_elec_low_income} households ({no_elec_low_income/len(df)*100:.1f}%)\")\n",
    "print(f\"   • Informal Housing + Poor Health: {informal_poor_health} households ({informal_poor_health/len(df)*100:.1f}%)\")\n",
    "\n",
    "# Chronic conditions impact analysis\n",
    "zero_conditions_avg = df[df['chronic_conditions_count'] == 0]['susceptibility_score'].mean()\n",
    "one_condition_avg = df[df['chronic_conditions_count'] == 1]['susceptibility_score'].mean()\n",
    "multi_conditions_avg = df[df['chronic_conditions_count'] >= 2]['susceptibility_score'].mean()\n",
    "\n",
    "print(f\"\\n📈 CHRONIC CONDITIONS IMPACT:\")\n",
    "print(f\"   • 0 Conditions: {zero_conditions_avg:.1f} avg susceptibility\")\n",
    "print(f\"   • 1 Condition: {one_condition_avg:.1f} avg susceptibility\")\n",
    "print(f\"   • 2+ Conditions: {multi_conditions_avg:.1f} avg susceptibility\")\n",
    "print(f\"   • Risk Multiplier: {multi_conditions_avg/zero_conditions_avg:.1f}x higher for multiple conditions\")\n",
    "\n",
    "print(f\"\\n🎯 INTERVENTION PRIORITIES:\")\n",
    "critical_priority = (df['intervention_priority'] == 'Critical').sum()\n",
    "high_priority = (df['intervention_priority'] == 'High').sum()\n",
    "immediate_action = critical_priority + high_priority\n",
    "\n",
    "print(f\"   • Critical Priority: {critical_priority} households ({critical_priority/len(df)*100:.1f}%)\")\n",
    "print(f\"   • High Priority: {high_priority} households ({high_priority/len(df)*100:.1f}%)\")\n",
    "print(f\"   • Immediate Action Needed: {immediate_action} households ({immediate_action/len(df)*100:.1f}%)\")\n",
    "\n",
    "print(f\"\\n🔑 KEY STRATEGIC INSIGHTS:\")\n",
    "print(f\"   1. ECONOMIC VULNERABILITY DOMINATES: {df['is_low_income'].mean()*100:.1f}% low income is primary driver\")\n",
    "print(f\"   2. INFRASTRUCTURE IS STRENGTH: {df['has_electricity'].mean()*100:.1f}% electricity, {df['formal_housing'].mean()*100:.1f}% formal housing\")\n",
    "print(f\"   3. HEALTH SYSTEM CRITICAL: {(df['has_hypertension'] | df['has_diabetes']).mean()*100:.1f}% have heat-sensitive conditions\")\n",
    "print(f\"   4. COMPOUND RISKS MATTER: Multiple vulnerabilities create extreme susceptibility\")\n",
    "print(f\"   5. TARGETED APPROACH NEEDED: Focus on {highest_risk_region} and vulnerable populations\")\n",
    "\n",
    "print(f\"\\n💡 RECOMMENDED INTERVENTION SEQUENCE:\")\n",
    "print(f\"   1. Economic Support: Target {df['is_low_income'].mean()*100:.0f}% low-income households\")\n",
    "print(f\"   2. Health System Prep: Chronic disease management for {(df['has_multiple_conditions']).mean()*100:.0f}% with multiple conditions\")\n",
    "print(f\"   3. Community Cooling: Establish centers in {highest_risk_region} and high-risk regions\")\n",
    "print(f\"   4. Infrastructure: Address remaining {(~df['has_electricity']).mean()*100:.0f}% without electricity\")\n",
    "print(f\"   5. Housing: Upgrade {(~df['formal_housing']).mean()*100:.0f}% informal housing\")\n",
    "\n",
    "# Statistical significance tests\n",
    "from scipy.stats import ttest_ind, chi2_contingency\n",
    "\n",
    "print(f\"\\n📈 STATISTICAL VALIDATION:\")\n",
    "# Test if high-risk regions have significantly different scores\n",
    "high_risk_regions = df[df['planning_region'].isin(['Johannesburg_G', 'Johannesburg_D', 'Johannesburg_E'])]\n",
    "low_risk_regions = df[df['planning_region'].isin(['Johannesburg_A', 'Johannesburg_F'])]\n",
    "\n",
    "t_stat, p_value = ttest_ind(high_risk_regions['susceptibility_score'], low_risk_regions['susceptibility_score'])\n",
    "print(f\"   • Regional Difference Significance: p = {p_value:.4f} {'(SIGNIFICANT)' if p_value < 0.05 else '(not significant)'}\")\n",
    "\n",
    "# Test chronic conditions impact\n",
    "no_conditions = df[df['chronic_conditions_count'] == 0]['susceptibility_score']\n",
    "multiple_conditions = df[df['chronic_conditions_count'] >= 2]['susceptibility_score']\n",
    "\n",
    "if len(multiple_conditions) > 0:\n",
    "    t_stat2, p_value2 = ttest_ind(multiple_conditions, no_conditions)\n",
    "    print(f\"   • Chronic Conditions Impact: p = {p_value2:.4f} {'(SIGNIFICANT)' if p_value2 < 0.05 else '(not significant)'}\")\n",
    "\n",
    "print(f\"\\n🏁 ANALYSIS COMPLETE: Ready for targeted heat-health intervention planning!\")"
   ]
  }
 ],
 "metadata": {
  "kernelspec": {
   "display_name": "base",
   "language": "python",
   "name": "python3"
  },
  "language_info": {
   "codemirror_mode": {
    "name": "ipython",
    "version": 3
   },
   "file_extension": ".py",
   "mimetype": "text/x-python",
   "name": "python",
   "nbconvert_exporter": "python",
   "pygments_lexer": "ipython3",
   "version": "3.12.2"
  }
 },
 "nbformat": 4,
 "nbformat_minor": 4
}
